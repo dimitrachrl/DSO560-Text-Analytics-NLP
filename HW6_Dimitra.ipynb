{
  "nbformat": 4,
  "nbformat_minor": 0,
  "metadata": {
    "colab": {
      "provenance": []
    },
    "kernelspec": {
      "name": "python3",
      "display_name": "Python 3"
    },
    "language_info": {
      "name": "python"
    }
  },
  "cells": [
    {
      "cell_type": "markdown",
      "source": [
        "Problem #1"
      ],
      "metadata": {
        "id": "LQlM31THuT7h"
      }
    },
    {
      "cell_type": "code",
      "execution_count": null,
      "metadata": {
        "id": "LzfhXao1uQsZ"
      },
      "outputs": [],
      "source": [
        "import tensorflow as tf\n",
        "import numpy as np #to round results\n",
        "\n",
        "\n",
        "x1 = tf.constant(0.1)\n",
        "x2 = tf.constant(0.2)\n",
        "w1 = tf.Variable(0.15)\n",
        "w2_a1 = tf.Variable(0.05)\n",
        "w2_a2 = tf.Variable(0.36)\n",
        "b1 = tf.Variable(0.33)\n",
        "b2 = tf.Variable(0.56)\n"
      ]
    },
    {
      "cell_type": "code",
      "source": [
        "#1. Sigmoid activation function\n",
        "a1 = tf.sigmoid(w1 * x1 + w2_a1 * x2 + b1)\n",
        "a2 = tf.sigmoid(a1 * w2_a2  + b2)\n",
        "tf.print(\"Sigmoid: a1=\", np.around(a1, 3), \"and a2=\", np.around(a2, 3))"
      ],
      "metadata": {
        "colab": {
          "base_uri": "https://localhost:8080/"
        },
        "id": "wgdpcWQx6Y2w",
        "outputId": "e589aae4-fc8b-4561-aaaf-49f5f10d1728"
      },
      "execution_count": null,
      "outputs": [
        {
          "output_type": "stream",
          "name": "stdout",
          "text": [
            "Sigmoid: a1= 0.588 and a2= 0.684\n"
          ]
        }
      ]
    },
    {
      "cell_type": "code",
      "source": [
        "#2. Linear activation function\n",
        "a1 = tf.identity(w1 * x1 + w2_a1 * x2 + b1)\n",
        "a2 = tf.identity(a1 * w2_a2 + b2)\n",
        "tf.print(\"Linear: a1=\", np.around(a1, 3), \"and a2=\", np.around(a2, 3))"
      ],
      "metadata": {
        "colab": {
          "base_uri": "https://localhost:8080/"
        },
        "id": "JJYObMNz0U6i",
        "outputId": "1496b6d4-0232-4700-82ad-2d8f8b09cbcf"
      },
      "execution_count": null,
      "outputs": [
        {
          "output_type": "stream",
          "name": "stdout",
          "text": [
            "Linear: a1= 0.355 and a2= 0.688\n"
          ]
        }
      ]
    },
    {
      "cell_type": "code",
      "source": [
        "#3. Tahn activation function\n",
        "a1 = tf.tanh(w1 * x1 + w2_a1 * x2 + b1)\n",
        "a2 = tf.tanh(a1 * w2_a2  + b2)\n",
        "tf.print(\"Tahn: a1=\", np.around(a1, 3), \"and a2=\", np.around(a2, 3))\n"
      ],
      "metadata": {
        "colab": {
          "base_uri": "https://localhost:8080/"
        },
        "id": "gON_934lz2Zj",
        "outputId": "4548b058-e0dc-48f6-8b07-2a492a5b2bd8"
      },
      "execution_count": null,
      "outputs": [
        {
          "output_type": "stream",
          "name": "stdout",
          "text": [
            "Tahn: a1= 0.341 and a2= 0.593\n"
          ]
        }
      ]
    },
    {
      "cell_type": "code",
      "source": [
        "#4. ReLU activation function\n",
        "a1 = tf.nn.relu(w1 * x1 + w2_a1 * x2 + b1)\n",
        "a2 = tf.nn.relu(a1 *  w2_a2  + b2)\n",
        "tf.print(\"ReLU a1=\", np.around(a1, 3), \"and a2=\", np.around(a2, 3))\n"
      ],
      "metadata": {
        "colab": {
          "base_uri": "https://localhost:8080/"
        },
        "id": "06Zx3VTf0Iw5",
        "outputId": "2b149dbb-a275-4152-a608-9d6faac88cd1"
      },
      "execution_count": null,
      "outputs": [
        {
          "output_type": "stream",
          "name": "stdout",
          "text": [
            "ReLU a1= 0.355 and a2= 0.688\n"
          ]
        }
      ]
    },
    {
      "cell_type": "markdown",
      "source": [
        "Problem #2"
      ],
      "metadata": {
        "id": "5yDxj5Dq2dhd"
      }
    },
    {
      "cell_type": "code",
      "source": [
        "#numpy code\n",
        "x = np.array([-4.0, 0.5, 4.0])\n",
        "\n",
        "\n",
        "#functions\n",
        "def relu(x):\n",
        "    return np.maximum(x, 0)\n",
        "\n",
        "def sigmoid(x):\n",
        "    return 1 / (1 + np.exp(-x))\n",
        "\n",
        "def tanh(x):\n",
        "    return np.tanh(x)\n"
      ],
      "metadata": {
        "id": "zLmQnAcp2QWg"
      },
      "execution_count": null,
      "outputs": []
    },
    {
      "cell_type": "code",
      "source": [
        "#gradients\n",
        "def relu_gradient(x):\n",
        "    return np.where(x <= 0, 0, 1)\n",
        "\n",
        "def sigmoid_gradient(x):\n",
        "    sig = sigmoid(x)\n",
        "    return sig * (1 - sig)\n",
        "\n",
        "def tanh_gradient(x):\n",
        "    return 1 - np.power(tanh(x), 2)"
      ],
      "metadata": {
        "id": "ocsyfhU97Z7H"
      },
      "execution_count": null,
      "outputs": []
    },
    {
      "cell_type": "code",
      "source": [
        "print(\"ReLu Function:\")\n",
        "print(\"x = -4.0, Gradient = \",relu_gradient(x)[0])\n",
        "print(\"x = 0.5, Gradient = \",relu_gradient(x)[1])\n",
        "print(\"x =  4.0, Gradient = \",relu_gradient(x)[2])\n",
        "print()\n",
        "\n",
        "print(\"Sigmoid Function:\")\n",
        "print(\"x = -4.0, Gradient = \",np.round(sigmoid_gradient(x)[0],5))\n",
        "print(\"x = 0.5, Gradient = \",np.round(sigmoid_gradient(x)[1],4))\n",
        "print(\"x =  4.0, Gradient = \",np.round(sigmoid_gradient(x)[2],5))\n",
        "print()\n",
        "\n",
        "print(\"Tanh Function:\")\n",
        "print(\"x = -4.0, Gradient = \",np.round(tanh_gradient(x)[0],4))\n",
        "print(\"x = 0.5, Gradient = \",np.round(tanh_gradient(x)[1],4))\n",
        "print(\"x =  4.0, Gradient = \",np.round(tanh_gradient(x)[2],4))\n",
        "print()\n"
      ],
      "metadata": {
        "colab": {
          "base_uri": "https://localhost:8080/"
        },
        "id": "Jk8eCZzv7dmk",
        "outputId": "87900380-8543-474a-a888-1c232c3ee7c5"
      },
      "execution_count": null,
      "outputs": [
        {
          "output_type": "stream",
          "name": "stdout",
          "text": [
            "ReLu Function:\n",
            "x = -4.0, Gradient =  0\n",
            "x = 0.5, Gradient =  1\n",
            "x =  4.0, Gradient =  1\n",
            "\n",
            "Sigmoid Function:\n",
            "x = -4.0, Gradient =  0.01766\n",
            "x = 0.5, Gradient =  0.235\n",
            "x =  4.0, Gradient =  0.01766\n",
            "\n",
            "Tanh Function:\n",
            "x = -4.0, Gradient =  0.0013\n",
            "x = 0.5, Gradient =  0.7864\n",
            "x =  4.0, Gradient =  0.0013\n",
            "\n"
          ]
        }
      ]
    },
    {
      "cell_type": "markdown",
      "source": [
        "Problem #3"
      ],
      "metadata": {
        "id": "nMjpnit22rCK"
      }
    },
    {
      "cell_type": "code",
      "source": [
        "\n",
        "v1 = tf.constant([2.3, 1.2, 0.3, 0.0])\n",
        "v2 = tf.constant([1.9, 1.7, 2.6, 0.2, 1.3])\n",
        "\n",
        "softmax_v1 = tf.nn.softmax(v1)\n",
        "softmax_v2 = tf.nn.softmax(v2)\n",
        "\n",
        "# Print the results\n",
        "print(\"Softmax Function V1:\", softmax_v1.numpy())\n",
        "print(\"Softmax Function V2:\", softmax_v2.numpy())\n"
      ],
      "metadata": {
        "colab": {
          "base_uri": "https://localhost:8080/"
        },
        "id": "EBjqJGoX2qEM",
        "outputId": "e910055a-c76a-4e3d-e9ad-a57d873b152a"
      },
      "execution_count": null,
      "outputs": [
        {
          "output_type": "stream",
          "name": "stdout",
          "text": [
            "Softmax Function V1: [0.6375659  0.21222727 0.08628516 0.06392162]\n",
            "Softmax Function V2: [0.21910708 0.17938972 0.44122744 0.04002725 0.12024851]\n"
          ]
        }
      ]
    },
    {
      "cell_type": "markdown",
      "source": [
        "Problem #4"
      ],
      "metadata": {
        "id": "dJVIQ0qc3F3x"
      }
    },
    {
      "cell_type": "code",
      "source": [
        "def cross_entropy(t, y):\n",
        "    return -((t * tf.math.log(y)) + ((1 - t) * tf.math.log(1 - y)))\n",
        "\n",
        "t0 = 0\n",
        "t1 = 1\n",
        "vectors_t0 = (0.95, t0), (0.8, t0), (0.6, t0), (0.4, t0), (0.1, t0)\n",
        "vectors_t1 = [(0.95, t1), (0.8, t1), (0.6, t1), (0.4, t1), (0.1, t1)]\n",
        "\n",
        "#Target 0\n",
        "print(\"Target = 0\")\n",
        "for v in vectors_t0:\n",
        "    computed_value = v[0]\n",
        "    target = v[1]\n",
        "    cost_function = cross_entropy(target, computed_value).numpy()\n",
        "\n",
        "    print(\"Computed Value =\", computed_value, \"Cost Function =\", cost_function)\n",
        "\n",
        "print()\n",
        "#Target 1\n",
        "print(\"Target = 1\")\n",
        "for v in vectors_t1:\n",
        "    computed_value = v[0]\n",
        "    target = v[1]\n",
        "    cost_function = cross_entropy(target, computed_value).numpy()\n",
        "\n",
        "    print(\"Computed Value =\", computed_value, \"Cost Function =\", cost_function)\n"
      ],
      "metadata": {
        "colab": {
          "base_uri": "https://localhost:8080/"
        },
        "id": "kA6x3xps3HEI",
        "outputId": "37ea7d65-a725-4207-d4a4-3dc334860fd7"
      },
      "execution_count": null,
      "outputs": [
        {
          "output_type": "stream",
          "name": "stdout",
          "text": [
            "Target = 0\n",
            "Computed Value = 0.95 Cost Function = 2.9957323\n",
            "Computed Value = 0.8 Cost Function = 1.609438\n",
            "Computed Value = 0.6 Cost Function = 0.9162907\n",
            "Computed Value = 0.4 Cost Function = 0.5108256\n",
            "Computed Value = 0.1 Cost Function = 0.105360545\n",
            "\n",
            "Target = 1\n",
            "Computed Value = 0.95 Cost Function = 0.051293306\n",
            "Computed Value = 0.8 Cost Function = 0.22314353\n",
            "Computed Value = 0.6 Cost Function = 0.5108256\n",
            "Computed Value = 0.4 Cost Function = 0.9162907\n",
            "Computed Value = 0.1 Cost Function = 2.3025851\n"
          ]
        }
      ]
    },
    {
      "cell_type": "markdown",
      "source": [
        "Problem #5"
      ],
      "metadata": {
        "id": "L5X71qz24H6e"
      }
    },
    {
      "cell_type": "code",
      "source": [
        "a = ([5,2,3], [26,56,92], [3,0,26])\n",
        "\n",
        "a1 = tf.argmax(a, axis=0)\n",
        "a2 = tf.argmax(a, axis=1)\n",
        "\n",
        "tf.print(\"a1 =\", a1)\n",
        "tf.print(\"a2 =\", a2)\n"
      ],
      "metadata": {
        "colab": {
          "base_uri": "https://localhost:8080/"
        },
        "id": "VVK7rdQm4JiI",
        "outputId": "f4c2ef30-692c-422a-943f-a23b553eb09b"
      },
      "execution_count": null,
      "outputs": [
        {
          "output_type": "stream",
          "name": "stdout",
          "text": [
            "a1 = [1 1 1]\n",
            "a2 = [0 2 2]\n"
          ]
        }
      ]
    },
    {
      "cell_type": "markdown",
      "source": [
        "Problem #6"
      ],
      "metadata": {
        "id": "t3IVpUTp5Bhx"
      }
    },
    {
      "cell_type": "code",
      "source": [
        "x = tf.constant([[0.0, 0.0], [1.0, 0.0], [0.0, 1.0], [1.0, 1.0]]) #input\n",
        "w1 = tf.constant([[-4.0, -6.0, -5.0], [3.0, 6.0, 4.0]])\n",
        "b1 = tf.constant([-2.0, 3.0, -2.0])\n",
        "w2 = tf.constant([[5.0], [-9.0], [7.0]])\n",
        "b2 = tf.constant([4.0])\n",
        "y_true = tf.constant([[0.0], [1.0], [1.0], [0.0]])\n"
      ],
      "metadata": {
        "id": "-gIIqHqq5DMc"
      },
      "execution_count": null,
      "outputs": []
    },
    {
      "cell_type": "code",
      "source": [
        "#Batch Size 1\n",
        "for i in range(4):\n",
        "    x_i = x[i:i+1]  # get one observation at a time as a batch\n",
        "    y_true_i = y_true[i:i+1]\n",
        "\n",
        "    f_1 = tf.matmul(x_i, w1) + b1\n",
        "    f_activation1 = tf.sigmoid(f_1)\n",
        "\n",
        "    f_2 = tf.matmul(f_activation1, w2) + b2\n",
        "    f_activation2 = tf.sigmoid(f_2)\n",
        "\n",
        "    err = tf.square(f_activation2 - y_true_i)\n",
        "\n",
        "    tf.print(f'Input 1 and 2: {x_i}, True Output: {y_true_i}, Computed Output: {f_activation2}, Error: {err}')\n"
      ],
      "metadata": {
        "colab": {
          "base_uri": "https://localhost:8080/"
        },
        "id": "olBChEvJF0d9",
        "outputId": "c7e3aab1-2bd6-4559-8ffc-c0893a9a1300"
      },
      "execution_count": null,
      "outputs": [
        {
          "output_type": "stream",
          "name": "stdout",
          "text": [
            "Input 1 and 2: [[0. 0.]], True Output: [[0.]], Computed Output: [[0.04137863]], Error: [[0.00171219]]\n",
            "Input 1 and 2: [[1. 0.]], True Output: [[1.]], Computed Output: [[0.9731927]], Error: [[0.00071863]]\n",
            "Input 1 and 2: [[0. 1.]], True Output: [[1.]], Computed Output: [[0.9920135]], Error: [[6.3783955e-05]]\n",
            "Input 1 and 2: [[1. 1.]], True Output: [[0.]], Computed Output: [[0.01791469]], Error: [[0.00032094]]\n"
          ]
        }
      ]
    },
    {
      "cell_type": "code",
      "source": [
        "#Batch Size 4\n",
        "f_1 = tf.matmul(x, w1) + b1\n",
        "\n",
        "f_activation1 = tf.sigmoid(f_1)\n",
        "\n",
        "f_2 = tf.matmul(f_activation1, w2) + b2\n",
        "f_activation2 = tf.sigmoid(f_2)\n",
        "err = tf.square(f_activation2 - y_true)\n",
        "tf.print(f'Input 1 and 2: {x}, True Output: {y_true}, Computed Output: {f_activation2}, Error: {err}')"
      ],
      "metadata": {
        "colab": {
          "base_uri": "https://localhost:8080/"
        },
        "id": "9aMWDBQ7F22U",
        "outputId": "0c214928-361d-4efc-87a5-e6463e5935ac"
      },
      "execution_count": null,
      "outputs": [
        {
          "output_type": "stream",
          "name": "stdout",
          "text": [
            "Input 1 and 2: [[0. 0.]\n",
            " [1. 0.]\n",
            " [0. 1.]\n",
            " [1. 1.]], True Output: [[0.]\n",
            " [1.]\n",
            " [1.]\n",
            " [0.]], Computed Output: [[0.04137863]\n",
            " [0.9731927 ]\n",
            " [0.9920135 ]\n",
            " [0.01791469]], Error: [[1.7121909e-03]\n",
            " [7.1863178e-04]\n",
            " [6.3783955e-05]\n",
            " [3.2093617e-04]]\n"
          ]
        }
      ]
    }
  ]
}