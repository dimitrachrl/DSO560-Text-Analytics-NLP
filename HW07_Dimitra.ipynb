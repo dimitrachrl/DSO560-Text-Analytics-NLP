{
  "nbformat": 4,
  "nbformat_minor": 0,
  "metadata": {
    "colab": {
      "provenance": []
    },
    "kernelspec": {
      "name": "python3",
      "display_name": "Python 3"
    },
    "language_info": {
      "name": "python"
    }
  },
  "cells": [
    {
      "cell_type": "code",
      "execution_count": null,
      "metadata": {
        "colab": {
          "base_uri": "https://localhost:8080/"
        },
        "id": "bUCKsWjTZdOC",
        "outputId": "cacc010f-eacb-4509-b66e-cdd543035fa0"
      },
      "outputs": [
        {
          "output_type": "stream",
          "name": "stdout",
          "text": [
            "Drive already mounted at /content/drive; to attempt to forcibly remount, call drive.mount(\"/content/drive\", force_remount=True).\n"
          ]
        }
      ],
      "source": [
        "from gensim.models import Word2Vec, KeyedVectors\n",
        "from google.colab import drive\n",
        "drive.mount('/content/drive')\n",
        "\n",
        "# At this stage Colab will try to access your Google Drive account.\n",
        " # Enter the credentials of your Google Drive account.\n",
        "path = \"/content/drive/MyDrive/GoogleNews-vectors-negative300.bin\"\n",
        "\n",
        "# Provide the complete path of the ‘GoogleNews’ file \n",
        "# stored in your Google Drive account.\n",
        "model = KeyedVectors.load_word2vec_format(path, binary=True, limit=200000) "
      ]
    },
    {
      "cell_type": "code",
      "source": [
        "#vec1\n",
        "Vec1 = model['Marie_Curie'] - model['physics'] + model['politics']\n",
        "model.most_similar([Vec1])"
      ],
      "metadata": {
        "colab": {
          "base_uri": "https://localhost:8080/"
        },
        "id": "fr3CS5ZrnAsC",
        "outputId": "817814ff-f6be-45c4-91aa-4aba281437e4"
      },
      "execution_count": null,
      "outputs": [
        {
          "output_type": "execute_result",
          "data": {
            "text/plain": [
              "[('Marie_Curie', 0.6391899585723877),\n",
              " ('politics', 0.45687681436538696),\n",
              " ('Sue_Ryder', 0.4075208902359009),\n",
              " ('Breakthrough_Breast_Cancer', 0.37573349475860596),\n",
              " ('Margaret_Thatcher', 0.3684638738632202),\n",
              " ('Marie_Curie_Cancer', 0.3580324649810791),\n",
              " ('politicians', 0.34992516040802),\n",
              " ('Breast_Cancer_Care', 0.34824055433273315),\n",
              " ('Mrs_Thatcher', 0.34574592113494873),\n",
              " ('politicans', 0.3389204740524292)]"
            ]
          },
          "metadata": {},
          "execution_count": 11
        }
      ]
    },
    {
      "cell_type": "code",
      "source": [
        "#vec2\n",
        "Vec2 = model['Cowboys'] - model['Dallas'] + model['Miami']\n",
        "model.most_similar([Vec2])"
      ],
      "metadata": {
        "colab": {
          "base_uri": "https://localhost:8080/"
        },
        "id": "MkJYrpE1nPhD",
        "outputId": "a9a317df-2db9-4790-a596-881d4219d2aa"
      },
      "execution_count": null,
      "outputs": [
        {
          "output_type": "execute_result",
          "data": {
            "text/plain": [
              "[('Cowboys', 0.7327903509140015),\n",
              " ('Dolphins', 0.7073556184768677),\n",
              " ('Miami_Dolphins', 0.6461875438690186),\n",
              " ('Broncos', 0.6419292688369751),\n",
              " ('Seminoles', 0.6188381910324097),\n",
              " ('Gators', 0.6109527945518494),\n",
              " ('Hokies', 0.592700719833374),\n",
              " ('Dallas_Cowboys', 0.5866430401802063),\n",
              " ('Sooners', 0.5866405367851257),\n",
              " ('Cleveland_Browns', 0.5844414234161377)]"
            ]
          },
          "metadata": {},
          "execution_count": 12
        }
      ]
    },
    {
      "cell_type": "code",
      "source": [
        "#vec3\n",
        "Vec3 = model['Sacramento'] - model['California'] + model['Colorado']\n",
        "model.most_similar([Vec3])"
      ],
      "metadata": {
        "colab": {
          "base_uri": "https://localhost:8080/"
        },
        "id": "bNTmCVc4nZMG",
        "outputId": "61d59dc7-f3fc-4484-a767-99cdaa0e0d95"
      },
      "execution_count": null,
      "outputs": [
        {
          "output_type": "execute_result",
          "data": {
            "text/plain": [
              "[('Denver', 0.7687567472457886),\n",
              " ('Colorado', 0.7621334791183472),\n",
              " ('Sacramento', 0.7206398248672485),\n",
              " ('Grand_Junction', 0.6696534156799316),\n",
              " ('Fort_Collins', 0.6669073104858398),\n",
              " ('Boulder', 0.6501880288124084),\n",
              " ('Colorado_Springs', 0.6477946043014526),\n",
              " ('Pueblo', 0.6256301403045654),\n",
              " ('Spokane', 0.6246552467346191),\n",
              " ('Gunnison', 0.6222272515296936)]"
            ]
          },
          "metadata": {},
          "execution_count": 13
        }
      ]
    },
    {
      "cell_type": "code",
      "source": [
        "#vec4\n",
        "Vec4 = model['Cowboys'] - model['Dallas'] + model['San_Francisco']\n",
        "model.most_similar([Vec4])"
      ],
      "metadata": {
        "colab": {
          "base_uri": "https://localhost:8080/"
        },
        "id": "Gc21kofSnfu_",
        "outputId": "0e56c138-22e4-4014-93dd-b3f77b45f7fa"
      },
      "execution_count": null,
      "outputs": [
        {
          "output_type": "execute_result",
          "data": {
            "text/plain": [
              "[('Cowboys', 0.71146559715271),\n",
              " ('Giants', 0.6826242208480835),\n",
              " ('Niners', 0.6466032862663269),\n",
              " ('##ers', 0.6438729763031006),\n",
              " ('San_Francisco_##ers', 0.6088260412216187),\n",
              " ('Oakland_Raiders', 0.6043734550476074),\n",
              " ('Broncos', 0.594341516494751),\n",
              " ('Raiders', 0.5565467476844788),\n",
              " ('Seahawks', 0.5484771728515625),\n",
              " ('Dallas_Cowboys', 0.5368008613586426)]"
            ]
          },
          "metadata": {},
          "execution_count": 14
        }
      ]
    },
    {
      "cell_type": "markdown",
      "source": [
        "Problem #2"
      ],
      "metadata": {
        "id": "kLBCnTBvbyZq"
      }
    },
    {
      "cell_type": "code",
      "source": [
        "# 1. Load the libraries\n",
        "\n",
        "import pandas as pd\n",
        "from sklearn import preprocessing \n",
        "\n",
        "# 2. Read the Dataset\n",
        "data = pd.read_csv('Admissions.csv')\n",
        "data.head()\n"
      ],
      "metadata": {
        "colab": {
          "base_uri": "https://localhost:8080/",
          "height": 206
        },
        "id": "11E_KBn8b1CL",
        "outputId": "d04471f3-8b2a-484d-fa78-d487dafb98e4"
      },
      "execution_count": null,
      "outputs": [
        {
          "output_type": "execute_result",
          "data": {
            "text/plain": [
              "   admit  gre   gpa  rank\n",
              "0      0  380  3.61     3\n",
              "1      1  660  3.67     3\n",
              "2      1  800  4.00     1\n",
              "3      1  640  3.19     4\n",
              "4      0  520  2.93     4"
            ],
            "text/html": [
              "\n",
              "  <div id=\"df-33722ece-74b9-4d51-90d7-cb31e3c7b6f9\">\n",
              "    <div class=\"colab-df-container\">\n",
              "      <div>\n",
              "<style scoped>\n",
              "    .dataframe tbody tr th:only-of-type {\n",
              "        vertical-align: middle;\n",
              "    }\n",
              "\n",
              "    .dataframe tbody tr th {\n",
              "        vertical-align: top;\n",
              "    }\n",
              "\n",
              "    .dataframe thead th {\n",
              "        text-align: right;\n",
              "    }\n",
              "</style>\n",
              "<table border=\"1\" class=\"dataframe\">\n",
              "  <thead>\n",
              "    <tr style=\"text-align: right;\">\n",
              "      <th></th>\n",
              "      <th>admit</th>\n",
              "      <th>gre</th>\n",
              "      <th>gpa</th>\n",
              "      <th>rank</th>\n",
              "    </tr>\n",
              "  </thead>\n",
              "  <tbody>\n",
              "    <tr>\n",
              "      <th>0</th>\n",
              "      <td>0</td>\n",
              "      <td>380</td>\n",
              "      <td>3.61</td>\n",
              "      <td>3</td>\n",
              "    </tr>\n",
              "    <tr>\n",
              "      <th>1</th>\n",
              "      <td>1</td>\n",
              "      <td>660</td>\n",
              "      <td>3.67</td>\n",
              "      <td>3</td>\n",
              "    </tr>\n",
              "    <tr>\n",
              "      <th>2</th>\n",
              "      <td>1</td>\n",
              "      <td>800</td>\n",
              "      <td>4.00</td>\n",
              "      <td>1</td>\n",
              "    </tr>\n",
              "    <tr>\n",
              "      <th>3</th>\n",
              "      <td>1</td>\n",
              "      <td>640</td>\n",
              "      <td>3.19</td>\n",
              "      <td>4</td>\n",
              "    </tr>\n",
              "    <tr>\n",
              "      <th>4</th>\n",
              "      <td>0</td>\n",
              "      <td>520</td>\n",
              "      <td>2.93</td>\n",
              "      <td>4</td>\n",
              "    </tr>\n",
              "  </tbody>\n",
              "</table>\n",
              "</div>\n",
              "      <button class=\"colab-df-convert\" onclick=\"convertToInteractive('df-33722ece-74b9-4d51-90d7-cb31e3c7b6f9')\"\n",
              "              title=\"Convert this dataframe to an interactive table.\"\n",
              "              style=\"display:none;\">\n",
              "        \n",
              "  <svg xmlns=\"http://www.w3.org/2000/svg\" height=\"24px\"viewBox=\"0 0 24 24\"\n",
              "       width=\"24px\">\n",
              "    <path d=\"M0 0h24v24H0V0z\" fill=\"none\"/>\n",
              "    <path d=\"M18.56 5.44l.94 2.06.94-2.06 2.06-.94-2.06-.94-.94-2.06-.94 2.06-2.06.94zm-11 1L8.5 8.5l.94-2.06 2.06-.94-2.06-.94L8.5 2.5l-.94 2.06-2.06.94zm10 10l.94 2.06.94-2.06 2.06-.94-2.06-.94-.94-2.06-.94 2.06-2.06.94z\"/><path d=\"M17.41 7.96l-1.37-1.37c-.4-.4-.92-.59-1.43-.59-.52 0-1.04.2-1.43.59L10.3 9.45l-7.72 7.72c-.78.78-.78 2.05 0 2.83L4 21.41c.39.39.9.59 1.41.59.51 0 1.02-.2 1.41-.59l7.78-7.78 2.81-2.81c.8-.78.8-2.07 0-2.86zM5.41 20L4 18.59l7.72-7.72 1.47 1.35L5.41 20z\"/>\n",
              "  </svg>\n",
              "      </button>\n",
              "      \n",
              "  <style>\n",
              "    .colab-df-container {\n",
              "      display:flex;\n",
              "      flex-wrap:wrap;\n",
              "      gap: 12px;\n",
              "    }\n",
              "\n",
              "    .colab-df-convert {\n",
              "      background-color: #E8F0FE;\n",
              "      border: none;\n",
              "      border-radius: 50%;\n",
              "      cursor: pointer;\n",
              "      display: none;\n",
              "      fill: #1967D2;\n",
              "      height: 32px;\n",
              "      padding: 0 0 0 0;\n",
              "      width: 32px;\n",
              "    }\n",
              "\n",
              "    .colab-df-convert:hover {\n",
              "      background-color: #E2EBFA;\n",
              "      box-shadow: 0px 1px 2px rgba(60, 64, 67, 0.3), 0px 1px 3px 1px rgba(60, 64, 67, 0.15);\n",
              "      fill: #174EA6;\n",
              "    }\n",
              "\n",
              "    [theme=dark] .colab-df-convert {\n",
              "      background-color: #3B4455;\n",
              "      fill: #D2E3FC;\n",
              "    }\n",
              "\n",
              "    [theme=dark] .colab-df-convert:hover {\n",
              "      background-color: #434B5C;\n",
              "      box-shadow: 0px 1px 3px 1px rgba(0, 0, 0, 0.15);\n",
              "      filter: drop-shadow(0px 1px 2px rgba(0, 0, 0, 0.3));\n",
              "      fill: #FFFFFF;\n",
              "    }\n",
              "  </style>\n",
              "\n",
              "      <script>\n",
              "        const buttonEl =\n",
              "          document.querySelector('#df-33722ece-74b9-4d51-90d7-cb31e3c7b6f9 button.colab-df-convert');\n",
              "        buttonEl.style.display =\n",
              "          google.colab.kernel.accessAllowed ? 'block' : 'none';\n",
              "\n",
              "        async function convertToInteractive(key) {\n",
              "          const element = document.querySelector('#df-33722ece-74b9-4d51-90d7-cb31e3c7b6f9');\n",
              "          const dataTable =\n",
              "            await google.colab.kernel.invokeFunction('convertToInteractive',\n",
              "                                                     [key], {});\n",
              "          if (!dataTable) return;\n",
              "\n",
              "          const docLinkHtml = 'Like what you see? Visit the ' +\n",
              "            '<a target=\"_blank\" href=https://colab.research.google.com/notebooks/data_table.ipynb>data table notebook</a>'\n",
              "            + ' to learn more about interactive tables.';\n",
              "          element.innerHTML = '';\n",
              "          dataTable['output_type'] = 'display_data';\n",
              "          await google.colab.output.renderOutput(dataTable, element);\n",
              "          const docLink = document.createElement('div');\n",
              "          docLink.innerHTML = docLinkHtml;\n",
              "          element.appendChild(docLink);\n",
              "        }\n",
              "      </script>\n",
              "    </div>\n",
              "  </div>\n",
              "  "
            ]
          },
          "metadata": {},
          "execution_count": 17
        }
      ]
    },
    {
      "cell_type": "code",
      "source": [
        "features = data[['gre','gpa','rank']]\n",
        "type(features)"
      ],
      "metadata": {
        "colab": {
          "base_uri": "https://localhost:8080/"
        },
        "id": "q8lm8jOucN-q",
        "outputId": "7d0b630e-8160-4f9f-c203-3965634879ae"
      },
      "execution_count": null,
      "outputs": [
        {
          "output_type": "execute_result",
          "data": {
            "text/plain": [
              "pandas.core.frame.DataFrame"
            ]
          },
          "metadata": {},
          "execution_count": 19
        }
      ]
    },
    {
      "cell_type": "code",
      "source": [
        "features[0:5]"
      ],
      "metadata": {
        "colab": {
          "base_uri": "https://localhost:8080/",
          "height": 206
        },
        "id": "CEnS0CwscTC5",
        "outputId": "dcf5b3e9-a903-4edf-f491-05b25d5e49de"
      },
      "execution_count": null,
      "outputs": [
        {
          "output_type": "execute_result",
          "data": {
            "text/plain": [
              "   gre   gpa  rank\n",
              "0  380  3.61     3\n",
              "1  660  3.67     3\n",
              "2  800  4.00     1\n",
              "3  640  3.19     4\n",
              "4  520  2.93     4"
            ],
            "text/html": [
              "\n",
              "  <div id=\"df-505f8cc6-c80d-437c-8235-dc7f9afe8114\">\n",
              "    <div class=\"colab-df-container\">\n",
              "      <div>\n",
              "<style scoped>\n",
              "    .dataframe tbody tr th:only-of-type {\n",
              "        vertical-align: middle;\n",
              "    }\n",
              "\n",
              "    .dataframe tbody tr th {\n",
              "        vertical-align: top;\n",
              "    }\n",
              "\n",
              "    .dataframe thead th {\n",
              "        text-align: right;\n",
              "    }\n",
              "</style>\n",
              "<table border=\"1\" class=\"dataframe\">\n",
              "  <thead>\n",
              "    <tr style=\"text-align: right;\">\n",
              "      <th></th>\n",
              "      <th>gre</th>\n",
              "      <th>gpa</th>\n",
              "      <th>rank</th>\n",
              "    </tr>\n",
              "  </thead>\n",
              "  <tbody>\n",
              "    <tr>\n",
              "      <th>0</th>\n",
              "      <td>380</td>\n",
              "      <td>3.61</td>\n",
              "      <td>3</td>\n",
              "    </tr>\n",
              "    <tr>\n",
              "      <th>1</th>\n",
              "      <td>660</td>\n",
              "      <td>3.67</td>\n",
              "      <td>3</td>\n",
              "    </tr>\n",
              "    <tr>\n",
              "      <th>2</th>\n",
              "      <td>800</td>\n",
              "      <td>4.00</td>\n",
              "      <td>1</td>\n",
              "    </tr>\n",
              "    <tr>\n",
              "      <th>3</th>\n",
              "      <td>640</td>\n",
              "      <td>3.19</td>\n",
              "      <td>4</td>\n",
              "    </tr>\n",
              "    <tr>\n",
              "      <th>4</th>\n",
              "      <td>520</td>\n",
              "      <td>2.93</td>\n",
              "      <td>4</td>\n",
              "    </tr>\n",
              "  </tbody>\n",
              "</table>\n",
              "</div>\n",
              "      <button class=\"colab-df-convert\" onclick=\"convertToInteractive('df-505f8cc6-c80d-437c-8235-dc7f9afe8114')\"\n",
              "              title=\"Convert this dataframe to an interactive table.\"\n",
              "              style=\"display:none;\">\n",
              "        \n",
              "  <svg xmlns=\"http://www.w3.org/2000/svg\" height=\"24px\"viewBox=\"0 0 24 24\"\n",
              "       width=\"24px\">\n",
              "    <path d=\"M0 0h24v24H0V0z\" fill=\"none\"/>\n",
              "    <path d=\"M18.56 5.44l.94 2.06.94-2.06 2.06-.94-2.06-.94-.94-2.06-.94 2.06-2.06.94zm-11 1L8.5 8.5l.94-2.06 2.06-.94-2.06-.94L8.5 2.5l-.94 2.06-2.06.94zm10 10l.94 2.06.94-2.06 2.06-.94-2.06-.94-.94-2.06-.94 2.06-2.06.94z\"/><path d=\"M17.41 7.96l-1.37-1.37c-.4-.4-.92-.59-1.43-.59-.52 0-1.04.2-1.43.59L10.3 9.45l-7.72 7.72c-.78.78-.78 2.05 0 2.83L4 21.41c.39.39.9.59 1.41.59.51 0 1.02-.2 1.41-.59l7.78-7.78 2.81-2.81c.8-.78.8-2.07 0-2.86zM5.41 20L4 18.59l7.72-7.72 1.47 1.35L5.41 20z\"/>\n",
              "  </svg>\n",
              "      </button>\n",
              "      \n",
              "  <style>\n",
              "    .colab-df-container {\n",
              "      display:flex;\n",
              "      flex-wrap:wrap;\n",
              "      gap: 12px;\n",
              "    }\n",
              "\n",
              "    .colab-df-convert {\n",
              "      background-color: #E8F0FE;\n",
              "      border: none;\n",
              "      border-radius: 50%;\n",
              "      cursor: pointer;\n",
              "      display: none;\n",
              "      fill: #1967D2;\n",
              "      height: 32px;\n",
              "      padding: 0 0 0 0;\n",
              "      width: 32px;\n",
              "    }\n",
              "\n",
              "    .colab-df-convert:hover {\n",
              "      background-color: #E2EBFA;\n",
              "      box-shadow: 0px 1px 2px rgba(60, 64, 67, 0.3), 0px 1px 3px 1px rgba(60, 64, 67, 0.15);\n",
              "      fill: #174EA6;\n",
              "    }\n",
              "\n",
              "    [theme=dark] .colab-df-convert {\n",
              "      background-color: #3B4455;\n",
              "      fill: #D2E3FC;\n",
              "    }\n",
              "\n",
              "    [theme=dark] .colab-df-convert:hover {\n",
              "      background-color: #434B5C;\n",
              "      box-shadow: 0px 1px 3px 1px rgba(0, 0, 0, 0.15);\n",
              "      filter: drop-shadow(0px 1px 2px rgba(0, 0, 0, 0.3));\n",
              "      fill: #FFFFFF;\n",
              "    }\n",
              "  </style>\n",
              "\n",
              "      <script>\n",
              "        const buttonEl =\n",
              "          document.querySelector('#df-505f8cc6-c80d-437c-8235-dc7f9afe8114 button.colab-df-convert');\n",
              "        buttonEl.style.display =\n",
              "          google.colab.kernel.accessAllowed ? 'block' : 'none';\n",
              "\n",
              "        async function convertToInteractive(key) {\n",
              "          const element = document.querySelector('#df-505f8cc6-c80d-437c-8235-dc7f9afe8114');\n",
              "          const dataTable =\n",
              "            await google.colab.kernel.invokeFunction('convertToInteractive',\n",
              "                                                     [key], {});\n",
              "          if (!dataTable) return;\n",
              "\n",
              "          const docLinkHtml = 'Like what you see? Visit the ' +\n",
              "            '<a target=\"_blank\" href=https://colab.research.google.com/notebooks/data_table.ipynb>data table notebook</a>'\n",
              "            + ' to learn more about interactive tables.';\n",
              "          element.innerHTML = '';\n",
              "          dataTable['output_type'] = 'display_data';\n",
              "          await google.colab.output.renderOutput(dataTable, element);\n",
              "          const docLink = document.createElement('div');\n",
              "          docLink.innerHTML = docLinkHtml;\n",
              "          element.appendChild(docLink);\n",
              "        }\n",
              "      </script>\n",
              "    </div>\n",
              "  </div>\n",
              "  "
            ]
          },
          "metadata": {},
          "execution_count": 20
        }
      ]
    },
    {
      "cell_type": "code",
      "source": [
        "featuresScale = preprocessing.minmax_scale(data[['gre','gpa','rank']])\n",
        "type(featuresScale)"
      ],
      "metadata": {
        "colab": {
          "base_uri": "https://localhost:8080/"
        },
        "id": "7BqJ7IGLcXak",
        "outputId": "b0e87f04-f9c9-42ac-86c0-cb135de500b5"
      },
      "execution_count": null,
      "outputs": [
        {
          "output_type": "execute_result",
          "data": {
            "text/plain": [
              "numpy.ndarray"
            ]
          },
          "metadata": {},
          "execution_count": 21
        }
      ]
    },
    {
      "cell_type": "code",
      "source": [
        "#3. Scale the predictor variable values between 0 and 1\n",
        "featuresScale[0:5]"
      ],
      "metadata": {
        "colab": {
          "base_uri": "https://localhost:8080/"
        },
        "id": "_8tMtt2jcbEi",
        "outputId": "44c7f606-b17d-4197-a5ed-1493a671768f"
      },
      "execution_count": null,
      "outputs": [
        {
          "output_type": "execute_result",
          "data": {
            "text/plain": [
              "array([[0.27586207, 0.77586207, 0.66666667],\n",
              "       [0.75862069, 0.81034483, 0.66666667],\n",
              "       [1.        , 1.        , 0.        ],\n",
              "       [0.72413793, 0.53448276, 1.        ],\n",
              "       [0.51724138, 0.38505747, 1.        ]])"
            ]
          },
          "metadata": {},
          "execution_count": 43
        }
      ]
    },
    {
      "cell_type": "code",
      "source": [
        "#4.Encode the response categorical variable into one-hot variable\n",
        "from keras.utils import to_categorical\n",
        "\n",
        "labels = to_categorical(data['admit'])\n",
        "\n",
        "print(labels.shape)"
      ],
      "metadata": {
        "colab": {
          "base_uri": "https://localhost:8080/"
        },
        "id": "57jPWXCXdUcP",
        "outputId": "8d513453-99a2-4de6-a6fc-053237bcd75f"
      },
      "execution_count": null,
      "outputs": [
        {
          "output_type": "stream",
          "name": "stdout",
          "text": [
            "(400, 2)\n"
          ]
        }
      ]
    },
    {
      "cell_type": "code",
      "source": [
        "#5.Split data into “Training” and “Testing”\n",
        "\n",
        "from sklearn.model_selection import train_test_split\n",
        "\n",
        "X_train, X_test, Y_train, Y_test = train_test_split(featuresScale, labels, test_size=0.3, random_state=42)\n"
      ],
      "metadata": {
        "id": "ze0ov_rhdatJ"
      },
      "execution_count": null,
      "outputs": []
    },
    {
      "cell_type": "code",
      "source": [
        "#Build the Neural Network Model Using Keras/TF software\n",
        "from keras.models import Sequential\n",
        "from keras.layers import Dense\n",
        "\n",
        "model = Sequential()\n",
        "model.add(Dense(5, input_dim=3, activation='relu'))\n",
        "model.add(Dense(2, activation='softmax'))\n",
        "\n",
        "model.compile(loss='categorical_crossentropy', optimizer='adam', metrics=['accuracy'])\n",
        "\n",
        "model.summary()\n"
      ],
      "metadata": {
        "colab": {
          "base_uri": "https://localhost:8080/"
        },
        "id": "xxtfhkOtdjgy",
        "outputId": "f343b9ac-4f60-4a07-9425-b6a4208594b5"
      },
      "execution_count": null,
      "outputs": [
        {
          "output_type": "stream",
          "name": "stdout",
          "text": [
            "Model: \"sequential_2\"\n",
            "_________________________________________________________________\n",
            " Layer (type)                Output Shape              Param #   \n",
            "=================================================================\n",
            " dense_4 (Dense)             (None, 5)                 20        \n",
            "                                                                 \n",
            " dense_5 (Dense)             (None, 2)                 12        \n",
            "                                                                 \n",
            "=================================================================\n",
            "Total params: 32\n",
            "Trainable params: 32\n",
            "Non-trainable params: 0\n",
            "_________________________________________________________________\n"
          ]
        }
      ]
    },
    {
      "cell_type": "code",
      "source": [
        "#7. Train the Model using “Training” data\n",
        "hist = model.fit(X_train, Y_train, epochs=50, batch_size=16, verbose=1)"
      ],
      "metadata": {
        "colab": {
          "base_uri": "https://localhost:8080/"
        },
        "id": "w3ZVhXIiduF9",
        "outputId": "27e4273e-61c4-4f3c-a39b-6efaae405c4f"
      },
      "execution_count": null,
      "outputs": [
        {
          "output_type": "stream",
          "name": "stdout",
          "text": [
            "Epoch 1/50\n",
            "18/18 [==============================] - 1s 2ms/step - loss: 0.8383 - accuracy: 0.3143\n",
            "Epoch 2/50\n",
            "18/18 [==============================] - 0s 2ms/step - loss: 0.7779 - accuracy: 0.3143\n",
            "Epoch 3/50\n",
            "18/18 [==============================] - 0s 2ms/step - loss: 0.7313 - accuracy: 0.3500\n",
            "Epoch 4/50\n",
            "18/18 [==============================] - 0s 2ms/step - loss: 0.6977 - accuracy: 0.4786\n",
            "Epoch 5/50\n",
            "18/18 [==============================] - 0s 2ms/step - loss: 0.6744 - accuracy: 0.6321\n",
            "Epoch 6/50\n",
            "18/18 [==============================] - 0s 2ms/step - loss: 0.6569 - accuracy: 0.6893\n",
            "Epoch 7/50\n",
            "18/18 [==============================] - 0s 2ms/step - loss: 0.6450 - accuracy: 0.6857\n",
            "Epoch 8/50\n",
            "18/18 [==============================] - 0s 2ms/step - loss: 0.6362 - accuracy: 0.6857\n",
            "Epoch 9/50\n",
            "18/18 [==============================] - 0s 2ms/step - loss: 0.6298 - accuracy: 0.6893\n",
            "Epoch 10/50\n",
            "18/18 [==============================] - 0s 2ms/step - loss: 0.6254 - accuracy: 0.6893\n",
            "Epoch 11/50\n",
            "18/18 [==============================] - 0s 2ms/step - loss: 0.6222 - accuracy: 0.6857\n",
            "Epoch 12/50\n",
            "18/18 [==============================] - 0s 3ms/step - loss: 0.6198 - accuracy: 0.6857\n",
            "Epoch 13/50\n",
            "18/18 [==============================] - 0s 2ms/step - loss: 0.6181 - accuracy: 0.6857\n",
            "Epoch 14/50\n",
            "18/18 [==============================] - 0s 2ms/step - loss: 0.6163 - accuracy: 0.6857\n",
            "Epoch 15/50\n",
            "18/18 [==============================] - 0s 2ms/step - loss: 0.6152 - accuracy: 0.6857\n",
            "Epoch 16/50\n",
            "18/18 [==============================] - 0s 2ms/step - loss: 0.6143 - accuracy: 0.6857\n",
            "Epoch 17/50\n",
            "18/18 [==============================] - 0s 1ms/step - loss: 0.6128 - accuracy: 0.6857\n",
            "Epoch 18/50\n",
            "18/18 [==============================] - 0s 1ms/step - loss: 0.6120 - accuracy: 0.6857\n",
            "Epoch 19/50\n",
            "18/18 [==============================] - 0s 1ms/step - loss: 0.6102 - accuracy: 0.6857\n",
            "Epoch 20/50\n",
            "18/18 [==============================] - 0s 1ms/step - loss: 0.6091 - accuracy: 0.6857\n",
            "Epoch 21/50\n",
            "18/18 [==============================] - 0s 2ms/step - loss: 0.6081 - accuracy: 0.6857\n",
            "Epoch 22/50\n",
            "18/18 [==============================] - 0s 2ms/step - loss: 0.6070 - accuracy: 0.6857\n",
            "Epoch 23/50\n",
            "18/18 [==============================] - 0s 1ms/step - loss: 0.6059 - accuracy: 0.6857\n",
            "Epoch 24/50\n",
            "18/18 [==============================] - 0s 1ms/step - loss: 0.6053 - accuracy: 0.6857\n",
            "Epoch 25/50\n",
            "18/18 [==============================] - 0s 1ms/step - loss: 0.6041 - accuracy: 0.6857\n",
            "Epoch 26/50\n",
            "18/18 [==============================] - 0s 1ms/step - loss: 0.6034 - accuracy: 0.6857\n",
            "Epoch 27/50\n",
            "18/18 [==============================] - 0s 1ms/step - loss: 0.6022 - accuracy: 0.6857\n",
            "Epoch 28/50\n",
            "18/18 [==============================] - 0s 2ms/step - loss: 0.6013 - accuracy: 0.6857\n",
            "Epoch 29/50\n",
            "18/18 [==============================] - 0s 1ms/step - loss: 0.6007 - accuracy: 0.6857\n",
            "Epoch 30/50\n",
            "18/18 [==============================] - 0s 1ms/step - loss: 0.5998 - accuracy: 0.6857\n",
            "Epoch 31/50\n",
            "18/18 [==============================] - 0s 2ms/step - loss: 0.5990 - accuracy: 0.6857\n",
            "Epoch 32/50\n",
            "18/18 [==============================] - 0s 1ms/step - loss: 0.5987 - accuracy: 0.6857\n",
            "Epoch 33/50\n",
            "18/18 [==============================] - 0s 1ms/step - loss: 0.5979 - accuracy: 0.6893\n",
            "Epoch 34/50\n",
            "18/18 [==============================] - 0s 1ms/step - loss: 0.5972 - accuracy: 0.6929\n",
            "Epoch 35/50\n",
            "18/18 [==============================] - 0s 2ms/step - loss: 0.5966 - accuracy: 0.6929\n",
            "Epoch 36/50\n",
            "18/18 [==============================] - 0s 2ms/step - loss: 0.5963 - accuracy: 0.6929\n",
            "Epoch 37/50\n",
            "18/18 [==============================] - 0s 1ms/step - loss: 0.5956 - accuracy: 0.6929\n",
            "Epoch 38/50\n",
            "18/18 [==============================] - 0s 1ms/step - loss: 0.5956 - accuracy: 0.6929\n",
            "Epoch 39/50\n",
            "18/18 [==============================] - 0s 1ms/step - loss: 0.5948 - accuracy: 0.6929\n",
            "Epoch 40/50\n",
            "18/18 [==============================] - 0s 1ms/step - loss: 0.5945 - accuracy: 0.6964\n",
            "Epoch 41/50\n",
            "18/18 [==============================] - 0s 2ms/step - loss: 0.5941 - accuracy: 0.6964\n",
            "Epoch 42/50\n",
            "18/18 [==============================] - 0s 1ms/step - loss: 0.5938 - accuracy: 0.7036\n",
            "Epoch 43/50\n",
            "18/18 [==============================] - 0s 1ms/step - loss: 0.5937 - accuracy: 0.6964\n",
            "Epoch 44/50\n",
            "18/18 [==============================] - 0s 1ms/step - loss: 0.5930 - accuracy: 0.6964\n",
            "Epoch 45/50\n",
            "18/18 [==============================] - 0s 1ms/step - loss: 0.5925 - accuracy: 0.6964\n",
            "Epoch 46/50\n",
            "18/18 [==============================] - 0s 1ms/step - loss: 0.5922 - accuracy: 0.6964\n",
            "Epoch 47/50\n",
            "18/18 [==============================] - 0s 1ms/step - loss: 0.5918 - accuracy: 0.6964\n",
            "Epoch 48/50\n",
            "18/18 [==============================] - 0s 1ms/step - loss: 0.5916 - accuracy: 0.6929\n",
            "Epoch 49/50\n",
            "18/18 [==============================] - 0s 1ms/step - loss: 0.5913 - accuracy: 0.6964\n",
            "Epoch 50/50\n",
            "18/18 [==============================] - 0s 1ms/step - loss: 0.5909 - accuracy: 0.6964\n"
          ]
        }
      ]
    },
    {
      "cell_type": "code",
      "source": [
        "#8. Print values of all the weights and bias of all the neurons of the Neural Network\n",
        "\n",
        "for layer in model.layers:\n",
        "    weights, biases = layer.get_weights()\n",
        "    print(layer.name)\n",
        "    print(\"Weights:\\n\", weights)\n",
        "    print(\"Biases:\\n\", biases)"
      ],
      "metadata": {
        "colab": {
          "base_uri": "https://localhost:8080/"
        },
        "id": "7Bijmn4Md0le",
        "outputId": "aca05953-6e2c-440c-8bd0-2cb94024256f"
      },
      "execution_count": null,
      "outputs": [
        {
          "output_type": "stream",
          "name": "stdout",
          "text": [
            "dense_4\n",
            "Weights:\n",
            " [[ 5.26383638e-01  6.09598577e-01 -3.67466211e-02  7.93090045e-01\n",
            "   7.53447175e-01]\n",
            " [-4.69072968e-01 -6.58311918e-02 -2.96204865e-01 -8.49712715e-02\n",
            "   1.05539553e-01]\n",
            " [-1.10419234e-04  5.46904802e-01 -6.50247097e-01  9.18126047e-01\n",
            "  -6.38674855e-01]]\n",
            "Biases:\n",
            " [-0.11275316 -0.14680448  0.          0.20132886  0.06604627]\n",
            "dense_5\n",
            "Weights:\n",
            " [[-0.4893505   0.4111073 ]\n",
            " [-0.48809087  0.01761472]\n",
            " [-0.623392   -0.59291655]\n",
            " [ 0.04366435 -0.90226656]\n",
            " [-0.1008818   1.0832626 ]]\n",
            "Biases:\n",
            " [ 0.17719588 -0.17719585]\n"
          ]
        }
      ]
    },
    {
      "cell_type": "code",
      "source": [
        "#9. Predict the outcome using the “Testing” data\n",
        "y_pred = model.predict(X_test)\n",
        "\n",
        "Y_test = Y_test.argmax(axis=1)\n",
        "y_pred = y_pred.argmax(axis=1)"
      ],
      "metadata": {
        "colab": {
          "base_uri": "https://localhost:8080/"
        },
        "id": "1lbbkT2Vd7oA",
        "outputId": "d12face8-268e-436b-aebe-a1b11af521e5"
      },
      "execution_count": null,
      "outputs": [
        {
          "output_type": "stream",
          "name": "stdout",
          "text": [
            "4/4 [==============================] - 0s 2ms/step\n"
          ]
        }
      ]
    },
    {
      "cell_type": "code",
      "source": [
        "#10. Build confusion matrix\n",
        "from sklearn.metrics import confusion_matrix\n",
        "\n",
        "conf_matrix = confusion_matrix(Y_test, y_pred)\n",
        "print(\"Confusion Matrix:\\n\", conf_matrix)"
      ],
      "metadata": {
        "colab": {
          "base_uri": "https://localhost:8080/"
        },
        "id": "ElNqEEwyeBBf",
        "outputId": "946bb086-728a-4756-a3ae-01767f36269e"
      },
      "execution_count": null,
      "outputs": [
        {
          "output_type": "stream",
          "name": "stdout",
          "text": [
            "Confusion Matrix:\n",
            " [[81  0]\n",
            " [35  4]]\n"
          ]
        }
      ]
    },
    {
      "cell_type": "code",
      "source": [
        "#11. Compute the accuracy of the predictions\n",
        "accuracy = (conf_matrix[0,0]+conf_matrix[1,1])/sum(sum(conf_matrix))\n",
        "print(\"Accuracy:\", accuracy)"
      ],
      "metadata": {
        "colab": {
          "base_uri": "https://localhost:8080/"
        },
        "id": "8jBrcsodeEqi",
        "outputId": "01e9247d-7dcd-42e8-f6ea-9a37c975da2f"
      },
      "execution_count": null,
      "outputs": [
        {
          "output_type": "stream",
          "name": "stdout",
          "text": [
            "Accuracy: 0.7083333333333334\n"
          ]
        }
      ]
    },
    {
      "cell_type": "markdown",
      "source": [
        "Problem #3"
      ],
      "metadata": {
        "id": "HcxWQrbJePoF"
      }
    },
    {
      "cell_type": "code",
      "source": [
        "#1. Load libraries\n",
        "import numpy as np\n",
        "import pandas as pd\n",
        "\n",
        "#2. Corpus\n",
        "corpus = [\"data science professionals have promising career path\"]\n"
      ],
      "metadata": {
        "id": "52ZADt2ceaLd"
      },
      "execution_count": null,
      "outputs": []
    },
    {
      "cell_type": "code",
      "source": [
        "#3. Remove stop words\n",
        "\n",
        "def remove_stop_words(corpus):\n",
        "  stop_words = ['is','a','an','will','be','become','many','in','like','and']\n",
        "  results = []\n",
        "  for text in corpus:\n",
        "     tmp = text.split(' ')\n",
        "     for stop_word in stop_words:\n",
        "         if stop_word in tmp:\n",
        "            tmp.remove(stop_word)\n",
        "     results.append(\" \".join(tmp))\n",
        "\n",
        "  return results\n"
      ],
      "metadata": {
        "id": "ru0kmGp9fALt"
      },
      "execution_count": null,
      "outputs": []
    },
    {
      "cell_type": "code",
      "source": [
        "#4. Remove stop words\n",
        "corpus = remove_stop_words(corpus)\n",
        "print(corpus)"
      ],
      "metadata": {
        "colab": {
          "base_uri": "https://localhost:8080/"
        },
        "id": "-0A-LDDMfq3W",
        "outputId": "6a118388-6ad0-45ca-aae6-352ae6a21855"
      },
      "execution_count": null,
      "outputs": [
        {
          "output_type": "stream",
          "name": "stdout",
          "text": [
            "['data science professionals have promising career path']\n"
          ]
        }
      ]
    },
    {
      "cell_type": "code",
      "source": [
        "#5. Tokenize\n",
        "\n",
        "words = []\n",
        "for text in corpus:\n",
        "  for word in text.split(' '):\n",
        "    words.append(word)\n",
        "\n",
        "words = sorted(set(words))\n",
        "print(words)\n",
        "print('Total words = ', len(words))"
      ],
      "metadata": {
        "colab": {
          "base_uri": "https://localhost:8080/"
        },
        "id": "5q2HHoaRgOyE",
        "outputId": "ae7705ef-2850-4db0-d528-dec09b65c9cd"
      },
      "execution_count": null,
      "outputs": [
        {
          "output_type": "stream",
          "name": "stdout",
          "text": [
            "['career', 'data', 'have', 'path', 'professionals', 'promising', 'science']\n",
            "Total words =  7\n"
          ]
        }
      ]
    },
    {
      "cell_type": "code",
      "source": [
        "#6. Generate label using skipgram\n",
        "word2int = {}\n",
        "\n",
        "for i, word in enumerate(words):\n",
        "  word2int[word] = i\n",
        "\n",
        "sentences = []\n",
        "for sentence in corpus:\n",
        "  sentences.append(sentence.split())\n",
        "\n",
        "WINDOW_SIZE = 1\n",
        "\n",
        "skipNgram_data = []\n",
        "for sentence in sentences:\n",
        "  for idx, word in enumerate(sentence):\n",
        "    for neighbor in sentence[max(idx - WINDOW_SIZE, 0) : min(idx + WINDOW_SIZE, len(sentence)) + 1] :\n",
        "      if neighbor != word:\n",
        "        skipNgram_data.append([word, neighbor])"
      ],
      "metadata": {
        "id": "pOsb9O8bgpJM"
      },
      "execution_count": null,
      "outputs": []
    },
    {
      "cell_type": "code",
      "source": [
        "#7. Skipgram\n",
        "skipNgram_df = pd.DataFrame(skipNgram_data, columns = ['input','label'])\n",
        "print(\"Window Size = 1\")\n",
        "print(\"Number of Entries = 12\")\n",
        "print(skipNgram_df)"
      ],
      "metadata": {
        "colab": {
          "base_uri": "https://localhost:8080/"
        },
        "id": "ZLGTBHrvhXMw",
        "outputId": "48e422fb-ace0-4fc7-c7ea-2d36310e4bd7"
      },
      "execution_count": null,
      "outputs": [
        {
          "output_type": "stream",
          "name": "stdout",
          "text": [
            "Window Size = 1\n",
            "Number of Entries = 12\n",
            "            input          label\n",
            "0            data        science\n",
            "1         science           data\n",
            "2         science  professionals\n",
            "3   professionals        science\n",
            "4   professionals           have\n",
            "5            have  professionals\n",
            "6            have      promising\n",
            "7       promising           have\n",
            "8       promising         career\n",
            "9          career      promising\n",
            "10         career           path\n",
            "11           path         career\n"
          ]
        }
      ]
    },
    {
      "cell_type": "code",
      "source": [
        "#Window Size = 2\n",
        "WINDOW_SIZE = 2\n",
        "\n",
        "skipNgram_data = []\n",
        "for sentence in sentences:\n",
        "  for idx, word in enumerate(sentence):\n",
        "    for neighbor in sentence[max(idx - WINDOW_SIZE, 0) : min(idx + WINDOW_SIZE, len(sentence)) + 1] :\n",
        "      if neighbor != word:\n",
        "        skipNgram_data.append([word, neighbor])\n",
        "\n",
        "skipNgram_df_2 = pd.DataFrame(skipNgram_data, columns = ['input','label'])\n",
        "print(\"Window Size = 2\")\n",
        "print(\"Number of Entries = 22\")\n",
        "print(skipNgram_df_2)"
      ],
      "metadata": {
        "colab": {
          "base_uri": "https://localhost:8080/"
        },
        "id": "LMWdDepKifhM",
        "outputId": "510f1e61-4aa8-403c-d344-70a01a2d17d1"
      },
      "execution_count": null,
      "outputs": [
        {
          "output_type": "stream",
          "name": "stdout",
          "text": [
            "Window Size = 2\n",
            "Number of Entries = 22\n",
            "            input          label\n",
            "0            data        science\n",
            "1            data  professionals\n",
            "2         science           data\n",
            "3         science  professionals\n",
            "4         science           have\n",
            "5   professionals           data\n",
            "6   professionals        science\n",
            "7   professionals           have\n",
            "8   professionals      promising\n",
            "9            have        science\n",
            "10           have  professionals\n",
            "11           have      promising\n",
            "12           have         career\n",
            "13      promising  professionals\n",
            "14      promising           have\n",
            "15      promising         career\n",
            "16      promising           path\n",
            "17         career           have\n",
            "18         career      promising\n",
            "19         career           path\n",
            "20           path      promising\n",
            "21           path         career\n"
          ]
        }
      ]
    },
    {
      "cell_type": "code",
      "source": [
        "#Window Size = 3\n",
        "WINDOW_SIZE = 3\n",
        "\n",
        "skipNgram_data = []\n",
        "for sentence in sentences:\n",
        "  for idx, word in enumerate(sentence):\n",
        "    for neighbor in sentence[max(idx - WINDOW_SIZE, 0) : min(idx + WINDOW_SIZE, len(sentence)) + 1] :\n",
        "      if neighbor != word:\n",
        "        skipNgram_data.append([word, neighbor])\n",
        "\n",
        "skipNgram_df_3 = pd.DataFrame(skipNgram_data, columns = ['input','label'])\n",
        "print(\"Window Size = 3\")\n",
        "print(\"Number of Entries = 30\")\n",
        "print(skipNgram_df_3)"
      ],
      "metadata": {
        "colab": {
          "base_uri": "https://localhost:8080/"
        },
        "id": "-BzSsT2viLBc",
        "outputId": "f5222880-b8c9-4e85-cc7d-d5a6bb120db7"
      },
      "execution_count": null,
      "outputs": [
        {
          "output_type": "stream",
          "name": "stdout",
          "text": [
            "Window Size = 3\n",
            "Number of Entries = 30\n",
            "            input          label\n",
            "0            data        science\n",
            "1            data  professionals\n",
            "2            data           have\n",
            "3         science           data\n",
            "4         science  professionals\n",
            "5         science           have\n",
            "6         science      promising\n",
            "7   professionals           data\n",
            "8   professionals        science\n",
            "9   professionals           have\n",
            "10  professionals      promising\n",
            "11  professionals         career\n",
            "12           have           data\n",
            "13           have        science\n",
            "14           have  professionals\n",
            "15           have      promising\n",
            "16           have         career\n",
            "17           have           path\n",
            "18      promising        science\n",
            "19      promising  professionals\n",
            "20      promising           have\n",
            "21      promising         career\n",
            "22      promising           path\n",
            "23         career  professionals\n",
            "24         career           have\n",
            "25         career      promising\n",
            "26         career           path\n",
            "27           path           have\n",
            "28           path      promising\n",
            "29           path         career\n"
          ]
        }
      ]
    },
    {
      "cell_type": "markdown",
      "source": [
        "Problem #4"
      ],
      "metadata": {
        "id": "9jxi1F0siz6w"
      }
    },
    {
      "cell_type": "code",
      "source": [
        "#Hot-encoding data function\n",
        "\n",
        "ONE_HOT_DIM = len(words)\n",
        "\n",
        "def to_one_hot_encoding(data_point_index):\n",
        "  one_hot_encoding = np.zeros(ONE_HOT_DIM)\n",
        "  one_hot_encoding[data_point_index] = 1\n",
        "  return one_hot_encoding"
      ],
      "metadata": {
        "id": "WaLICln1jOb8"
      },
      "execution_count": null,
      "outputs": []
    },
    {
      "cell_type": "code",
      "source": [
        "#Generate Data\n",
        "\n",
        "X = [] \n",
        "Y = []\n",
        "\n",
        "for x, y in zip(skipNgram_df['input'], skipNgram_df['label']):\n",
        "  X.append(to_one_hot_encoding(word2int[x]))\n",
        "  Y.append(to_one_hot_encoding(word2int[y]))\n",
        "\n",
        "X_train = np.asarray(X)\n",
        "Y_train = np.asarray(Y)"
      ],
      "metadata": {
        "id": "Hkd3BBYcje9t"
      },
      "execution_count": null,
      "outputs": []
    },
    {
      "cell_type": "code",
      "source": [
        "print(word2int)\n",
        "print(\"input\")\n",
        "print(X_train)\n",
        "print()\n",
        "print(\"label\")\n",
        "print(Y_train)"
      ],
      "metadata": {
        "colab": {
          "base_uri": "https://localhost:8080/"
        },
        "id": "jT9ho3BYj3gG",
        "outputId": "b9ef4f0a-8bdf-40c6-b5b6-4a07ca08d406"
      },
      "execution_count": null,
      "outputs": [
        {
          "output_type": "stream",
          "name": "stdout",
          "text": [
            "{'career': 0, 'data': 1, 'have': 2, 'path': 3, 'professionals': 4, 'promising': 5, 'science': 6}\n",
            "input\n",
            "[[0. 1. 0. 0. 0. 0. 0.]\n",
            " [0. 0. 0. 0. 0. 0. 1.]\n",
            " [0. 0. 0. 0. 0. 0. 1.]\n",
            " [0. 0. 0. 0. 1. 0. 0.]\n",
            " [0. 0. 0. 0. 1. 0. 0.]\n",
            " [0. 0. 1. 0. 0. 0. 0.]\n",
            " [0. 0. 1. 0. 0. 0. 0.]\n",
            " [0. 0. 0. 0. 0. 1. 0.]\n",
            " [0. 0. 0. 0. 0. 1. 0.]\n",
            " [1. 0. 0. 0. 0. 0. 0.]\n",
            " [1. 0. 0. 0. 0. 0. 0.]\n",
            " [0. 0. 0. 1. 0. 0. 0.]]\n",
            "\n",
            "label\n",
            "[[0. 0. 0. 0. 0. 0. 1.]\n",
            " [0. 1. 0. 0. 0. 0. 0.]\n",
            " [0. 0. 0. 0. 1. 0. 0.]\n",
            " [0. 0. 0. 0. 0. 0. 1.]\n",
            " [0. 0. 1. 0. 0. 0. 0.]\n",
            " [0. 0. 0. 0. 1. 0. 0.]\n",
            " [0. 0. 0. 0. 0. 1. 0.]\n",
            " [0. 0. 1. 0. 0. 0. 0.]\n",
            " [1. 0. 0. 0. 0. 0. 0.]\n",
            " [0. 0. 0. 0. 0. 1. 0.]\n",
            " [0. 0. 0. 1. 0. 0. 0.]\n",
            " [1. 0. 0. 0. 0. 0. 0.]]\n"
          ]
        }
      ]
    }
  ]
}