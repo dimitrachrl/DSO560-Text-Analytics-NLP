{
  "nbformat": 4,
  "nbformat_minor": 0,
  "metadata": {
    "colab": {
      "provenance": []
    },
    "kernelspec": {
      "name": "python3",
      "display_name": "Python 3"
    },
    "language_info": {
      "name": "python"
    }
  },
  "cells": [
    {
      "cell_type": "markdown",
      "source": [
        "Problem #1"
      ],
      "metadata": {
        "id": "FUwueBvjLJaZ"
      }
    },
    {
      "cell_type": "code",
      "execution_count": null,
      "metadata": {
        "id": "xrqYuCOILA8B"
      },
      "outputs": [],
      "source": [
        "import numpy as np\n",
        "from scipy.linalg import svd"
      ]
    },
    {
      "cell_type": "code",
      "source": [
        "A = np.array([[5,7 , 21, 32],[0,3,43,24], [2,36,95,84], [ 92,37,57,64]])\n",
        "A"
      ],
      "metadata": {
        "colab": {
          "base_uri": "https://localhost:8080/"
        },
        "id": "kI23TQFHLYzb",
        "outputId": "5eacf55e-33a3-42ff-cfa0-b055173d2ac1"
      },
      "execution_count": null,
      "outputs": [
        {
          "output_type": "execute_result",
          "data": {
            "text/plain": [
              "array([[ 5,  7, 21, 32],\n",
              "       [ 0,  3, 43, 24],\n",
              "       [ 2, 36, 95, 84],\n",
              "       [92, 37, 57, 64]])"
            ]
          },
          "metadata": {},
          "execution_count": 228
        }
      ]
    },
    {
      "cell_type": "code",
      "source": [
        "V, Sigma, UStar = svd(A)\n",
        "\n",
        "print(\"V Matrix\\n\", V,\"\\n\\n Sigma Matrix\\n\", Sigma, \"\\n\\nUstar Matrix\\n\", UStar)"
      ],
      "metadata": {
        "colab": {
          "base_uri": "https://localhost:8080/"
        },
        "id": "biWPx3w6Lxy2",
        "outputId": "81190044-a588-44c6-8557-20933f920988"
      },
      "execution_count": null,
      "outputs": [
        {
          "output_type": "stream",
          "name": "stdout",
          "text": [
            "V Matrix\n",
            " [[-0.2047 -0.1045 -0.5134 -0.8268]\n",
            " [-0.2402 -0.2629  0.8326 -0.4243]\n",
            " [-0.686  -0.5954 -0.1983  0.3682]\n",
            " [-0.6556  0.7519  0.0627  0.0283]] \n",
            "\n",
            " Sigma Matrix\n",
            " [181.0895  73.8151  14.8546   8.3222] \n",
            "\n",
            "Ustar Matrix\n",
            " [[-0.3463 -0.2822 -0.647  -0.6179]\n",
            " [ 0.914   0.0659 -0.3686 -0.1564]\n",
            " [ 0.1889 -0.3981  0.6569 -0.6119]\n",
            " [-0.0951  0.8704  0.1186 -0.4684]]\n"
          ]
        }
      ]
    },
    {
      "cell_type": "code",
      "source": [
        "sigmaMatrix = np.diag(Sigma)\n",
        "print('Sigma Matrix \\n', sigmaMatrix)\n",
        "\n",
        "res = np.dot(V,sigmaMatrix)\n",
        "recreateA = np.dot(res,UStar)\n",
        "\n",
        "print('\\nRecreated Matrix A \\n', recreateA)\n",
        "\n",
        "print('\\nOriginal Matrix A')\n",
        "print(A)"
      ],
      "metadata": {
        "colab": {
          "base_uri": "https://localhost:8080/"
        },
        "id": "NgKRfdnVL4pp",
        "outputId": "37756caa-bc15-42ed-bbbf-6998d6d65150"
      },
      "execution_count": null,
      "outputs": [
        {
          "output_type": "stream",
          "name": "stdout",
          "text": [
            "Sigma Matrix \n",
            " [[181.0895   0.       0.       0.    ]\n",
            " [  0.      73.8151   0.       0.    ]\n",
            " [  0.       0.      14.8546   0.    ]\n",
            " [  0.       0.       0.       8.3222]]\n",
            "\n",
            "Recreated Matrix A \n",
            " [[ 5.  7. 21. 32.]\n",
            " [-0.  3. 43. 24.]\n",
            " [ 2. 36. 95. 84.]\n",
            " [92. 37. 57. 64.]]\n",
            "\n",
            "Original Matrix A\n",
            "[[ 5  7 21 32]\n",
            " [ 0  3 43 24]\n",
            " [ 2 36 95 84]\n",
            " [92 37 57 64]]\n"
          ]
        }
      ]
    },
    {
      "cell_type": "markdown",
      "source": [
        "Problem #2"
      ],
      "metadata": {
        "id": "x2zTXFYiMu3X"
      }
    },
    {
      "cell_type": "code",
      "source": [
        "A[0] = A[1] + A[2]\n",
        "A[-1] = A[1]\n",
        "A"
      ],
      "metadata": {
        "colab": {
          "base_uri": "https://localhost:8080/"
        },
        "id": "IIBBIWJLMzKZ",
        "outputId": "e1019752-2d1c-496b-f727-923531c5dbdc"
      },
      "execution_count": null,
      "outputs": [
        {
          "output_type": "execute_result",
          "data": {
            "text/plain": [
              "array([[  2,  39, 138, 108],\n",
              "       [  0,   3,  43,  24],\n",
              "       [  2,  36,  95,  84],\n",
              "       [  0,   3,  43,  24]])"
            ]
          },
          "metadata": {},
          "execution_count": 231
        }
      ]
    },
    {
      "cell_type": "code",
      "source": [
        "V, Sigma, UStar = svd(A)"
      ],
      "metadata": {
        "id": "65Ev9Dj0NF6g"
      },
      "execution_count": null,
      "outputs": []
    },
    {
      "cell_type": "code",
      "source": [
        "print(\"V Matrix\\n\", V,\"\\n\\n Sigma Matrix\\n\", Sigma, \"\\n\\nUstar Matrix\\n\", UStar)"
      ],
      "metadata": {
        "colab": {
          "base_uri": "https://localhost:8080/"
        },
        "id": "eMgmTTuPKhpd",
        "outputId": "3ed9cd03-0bad-4001-a1d1-9a0ee8447965"
      },
      "execution_count": null,
      "outputs": [
        {
          "output_type": "stream",
          "name": "stdout",
          "text": [
            "V Matrix\n",
            " [[-0.7716 -0.0679  0.6324  0.0073]\n",
            " [-0.2066 -0.5978 -0.308  -0.7107]\n",
            " [-0.565   0.5298 -0.6324 -0.0073]\n",
            " [-0.2066 -0.5978 -0.3244  0.7034]] \n",
            "\n",
            " Sigma Matrix\n",
            " [232.67    18.6197   0.       0.    ] \n",
            "\n",
            "Ustar Matrix\n",
            " [[-0.0115 -0.2221 -0.7647 -0.6048]\n",
            " [ 0.0496  0.6895 -0.5611  0.4553]\n",
            " [ 0.146   0.6756  0.3157 -0.65  ]\n",
            " [-0.988   0.1371  0.0274 -0.0662]]\n"
          ]
        }
      ]
    },
    {
      "cell_type": "markdown",
      "source": [
        "**Why the last 2 values of the ‘Sigma’ matrix values are zeros?**\n",
        "\n",
        "Because the rank of Matrix A got reduced from 4 to rank 2. This means that the change in A caused two of its rows (in this case row 2 and row 4) to become linearly dependent and therefore can be represented as a linear combination of the other rows"
      ],
      "metadata": {
        "id": "1SFkJcCHNP-_"
      }
    },
    {
      "cell_type": "markdown",
      "source": [
        "Problem #3"
      ],
      "metadata": {
        "id": "qDhxW0P8NVOE"
      }
    },
    {
      "cell_type": "code",
      "source": [
        "#1\n",
        "B = np.array([[3,1 , 1],[-1,3,1]])\n",
        "B"
      ],
      "metadata": {
        "colab": {
          "base_uri": "https://localhost:8080/"
        },
        "id": "jzPuasj2NZas",
        "outputId": "90488cf0-cb5c-4830-c42d-0eb44343f014"
      },
      "execution_count": null,
      "outputs": [
        {
          "output_type": "execute_result",
          "data": {
            "text/plain": [
              "array([[ 3,  1,  1],\n",
              "       [-1,  3,  1]])"
            ]
          },
          "metadata": {},
          "execution_count": 206
        }
      ]
    },
    {
      "cell_type": "code",
      "source": [
        "V, Sigma, UStar = svd(B)\n",
        "\n",
        "print(\"V Matrix\\n\", V,\"\\n\\n Sigma Matrix\\n\", Sigma, \"\\n\\nUstar Matrix\\n\", UStar)"
      ],
      "metadata": {
        "colab": {
          "base_uri": "https://localhost:8080/"
        },
        "id": "VtITwgeWNsGl",
        "outputId": "f4c6a28e-3208-4598-d759-ce727bf7f822"
      },
      "execution_count": null,
      "outputs": [
        {
          "output_type": "stream",
          "name": "stdout",
          "text": [
            "V Matrix\n",
            " [[-0.7071 -0.7071]\n",
            " [-0.7071  0.7071]] \n",
            "\n",
            " Sigma Matrix\n",
            " [3.4641 3.1623] \n",
            "\n",
            "Ustar Matrix\n",
            " [[-0.4082 -0.8165 -0.4082]\n",
            " [-0.8944  0.4472  0.    ]\n",
            " [-0.1826 -0.3651  0.9129]]\n"
          ]
        }
      ]
    },
    {
      "cell_type": "code",
      "source": [
        "sigmaMatrix = np.diag(Sigma)\n",
        "z = np.zeros((Sigma.shape[0],1))\n",
        "sigmaMatrix = np.hstack((sigmaMatrix,z))\n",
        "print('Sigma Matrix \\n', sigmaMatrix)\n",
        "\n",
        "res = np.dot(V,sigmaMatrix)\n",
        "recreateA = np.dot(res,UStar)\n",
        "\n",
        "print('\\nRecreated Matrix B \\n', recreateA)\n",
        "\n",
        "print('\\nOriginal Matrix B')\n",
        "print(B)"
      ],
      "metadata": {
        "colab": {
          "base_uri": "https://localhost:8080/"
        },
        "id": "iQz2tu0GNwqZ",
        "outputId": "e09f4ede-4490-4a03-e49b-4c599b2c8d03"
      },
      "execution_count": null,
      "outputs": [
        {
          "output_type": "stream",
          "name": "stdout",
          "text": [
            "Sigma Matrix \n",
            " [[3.4641 0.     0.    ]\n",
            " [0.     3.1623 0.    ]]\n",
            "\n",
            "Recreated Matrix B \n",
            " [[ 3.  1.  1.]\n",
            " [-1.  3.  1.]]\n",
            "\n",
            "Original Matrix B\n",
            "[[ 3  1  1]\n",
            " [-1  3  1]]\n"
          ]
        }
      ]
    },
    {
      "cell_type": "code",
      "source": [
        "#2\n",
        "C = np.array([[1,1 ],[0,1],[-1,1]])\n",
        "C"
      ],
      "metadata": {
        "colab": {
          "base_uri": "https://localhost:8080/"
        },
        "id": "4ToggKORN-1l",
        "outputId": "89b98bf1-4c05-4e13-f5b0-c44aae247e52"
      },
      "execution_count": null,
      "outputs": [
        {
          "output_type": "execute_result",
          "data": {
            "text/plain": [
              "array([[ 1,  1],\n",
              "       [ 0,  1],\n",
              "       [-1,  1]])"
            ]
          },
          "metadata": {},
          "execution_count": 209
        }
      ]
    },
    {
      "cell_type": "code",
      "source": [
        "V, Sigma, UStar = svd(C)\n",
        "\n",
        "print(\"V Matrix\\n\", V,\"\\n\\n Sigma Matrix\\n\", Sigma, \"\\n\\nUstar Matrix\\n\", UStar)"
      ],
      "metadata": {
        "colab": {
          "base_uri": "https://localhost:8080/"
        },
        "id": "C6LAzYSvOKcw",
        "outputId": "e1933018-fe42-4fad-ba5e-8e2b190f43b8"
      },
      "execution_count": null,
      "outputs": [
        {
          "output_type": "stream",
          "name": "stdout",
          "text": [
            "V Matrix\n",
            " [[-0.5774 -0.7071  0.4082]\n",
            " [-0.5774  0.     -0.8165]\n",
            " [-0.5774  0.7071  0.4082]] \n",
            "\n",
            " Sigma Matrix\n",
            " [1.7321 1.4142] \n",
            "\n",
            "Ustar Matrix\n",
            " [[-0. -1.]\n",
            " [-1. -0.]]\n"
          ]
        }
      ]
    },
    {
      "cell_type": "code",
      "source": [
        "sigmaMatrix = np.diag(Sigma)\n",
        "z = np.zeros((1,2))\n",
        "sigmaMatrix = np.vstack((sigmaMatrix,z))\n",
        "print('Sigma Matrix \\n', sigmaMatrix)\n",
        "\n",
        "res = np.dot(V,sigmaMatrix)\n",
        "recreateA = np.dot(res,UStar)\n",
        "\n",
        "print('\\nRecreated Matrix B \\n', recreateA)\n",
        "\n",
        "print('\\nOriginal Matrix B')\n",
        "print(C)"
      ],
      "metadata": {
        "colab": {
          "base_uri": "https://localhost:8080/"
        },
        "id": "6IeobMxcOPkE",
        "outputId": "18b4a3a6-ca6e-4a22-e40c-3c776352121f"
      },
      "execution_count": null,
      "outputs": [
        {
          "output_type": "stream",
          "name": "stdout",
          "text": [
            "Sigma Matrix \n",
            " [[1.7321 0.    ]\n",
            " [0.     1.4142]\n",
            " [0.     0.    ]]\n",
            "\n",
            "Recreated Matrix B \n",
            " [[ 1.  1.]\n",
            " [ 0.  1.]\n",
            " [-1.  1.]]\n",
            "\n",
            "Original Matrix B\n",
            "[[ 1  1]\n",
            " [ 0  1]\n",
            " [-1  1]]\n"
          ]
        }
      ]
    },
    {
      "cell_type": "markdown",
      "source": [
        "Problem #4"
      ],
      "metadata": {
        "id": "mcHFQNuLO-fv"
      }
    },
    {
      "cell_type": "markdown",
      "source": [
        "The singular value decomposition of a matrix A with rank r is given by A = U.S.V, where U is an (m x r) column-orthonormal matrix, S is a diagonal (r x r) matrix, and V is an (r x n) row-orthonormal matrix.\n",
        "\n",
        "To prove that V = S^(-1).U^(T).A, we can substitute the SVD of A into both sides of the equation:\n",
        "\n",
        "V = V => S^(-1).U^(T).A = S^(-1).U^(T).U.S.V = S^(-1).S.V = V\n",
        "\n",
        "Thus, the equation 𝑉= 𝑆^(−1).𝑈^(𝑇).𝐴 holds true."
      ],
      "metadata": {
        "id": "1tc_aZNtjFLD"
      }
    },
    {
      "cell_type": "markdown",
      "source": [
        "Problem #5"
      ],
      "metadata": {
        "id": "CfgRNnXRPYkA"
      }
    },
    {
      "cell_type": "code",
      "source": [
        "D= np.array([[13, 5, 5, 0, 13], [0, 15, 15, 0, 9], [0, 0, 0, 20, 0]])\n",
        "U,S,V = svd(D)\n",
        "\n",
        "k=2\n",
        "Uk = U[:,:k]\n",
        "Sk = np.diag(S[:k])\n",
        "Vk = V[:k,:]\n",
        "\n",
        "Ak = Uk.dot(Sk).dot(Vk)\n",
        "print(Ak)"
      ],
      "metadata": {
        "colab": {
          "base_uri": "https://localhost:8080/"
        },
        "id": "_N4UPWEEPcoK",
        "outputId": "59b53efd-eb63-40b1-857e-49eab82fa257"
      },
      "execution_count": null,
      "outputs": [
        {
          "output_type": "stream",
          "name": "stdout",
          "text": [
            "[[ 4.8186  9.098   9.098   0.      9.1654]\n",
            " [ 6.2788 11.855  11.855   0.     11.9428]\n",
            " [ 0.      0.      0.     20.      0.    ]]\n"
          ]
        }
      ]
    },
    {
      "cell_type": "code",
      "source": [
        "#query\n",
        "q= np.array([4,1,2])\n",
        "q.reshape(1,3)\n",
        "print(q)"
      ],
      "metadata": {
        "colab": {
          "base_uri": "https://localhost:8080/"
        },
        "id": "BSrdXeshWNiS",
        "outputId": "0dab46f9-2d41-40f4-a161-0096d66d7469"
      },
      "execution_count": null,
      "outputs": [
        {
          "output_type": "stream",
          "name": "stdout",
          "text": [
            "[4 1 2]\n"
          ]
        }
      ]
    },
    {
      "cell_type": "code",
      "source": [
        "reduced_document_ranking = np.dot(q,Ak)\n",
        "original_document_ranking = np.dot(q,D)\n",
        "print('Original Space Ranking\\n',original_document_ranking)\n",
        "print('Reduced Space Ranking\\n',reduced_document_ranking)"
      ],
      "metadata": {
        "colab": {
          "base_uri": "https://localhost:8080/"
        },
        "id": "rTNnIWmTWkdh",
        "outputId": "2956dbe7-d1e1-4ca9-b8aa-315e33f48f09"
      },
      "execution_count": null,
      "outputs": [
        {
          "output_type": "stream",
          "name": "stdout",
          "text": [
            "Original Space Ranking\n",
            " [52 35 35 40 61]\n",
            "Reduced Space Ranking\n",
            " [25.5532 48.2471 48.2471 40.     48.6046]\n"
          ]
        }
      ]
    },
    {
      "cell_type": "markdown",
      "source": [
        "Problem #6"
      ],
      "metadata": {
        "id": "c2rYX9s3YIUn"
      }
    },
    {
      "cell_type": "code",
      "source": [
        "from sklearn.feature_extraction.text import CountVectorizer\n",
        "from sklearn.decomposition import TruncatedSVD\n",
        "import pandas as pd\n",
        "np.set_printoptions(precision=4,suppress=True)"
      ],
      "metadata": {
        "id": "CVNf8uvvYJvj"
      },
      "execution_count": null,
      "outputs": []
    },
    {
      "cell_type": "code",
      "source": [
        "\n",
        "vectorizer = CountVectorizer()\n",
        "\n",
        "corpus = ['runs','runs pitcher innings', 'pitcher','touchdown','quarterback','touchdown quarterback']\n",
        "bag_of_words = vectorizer.fit_transform(corpus)\n",
        "df = pd.DataFrame(bag_of_words.toarray(),columns = vectorizer.get_feature_names())\n",
        "print(df.T)\n",
        "\n"
      ],
      "metadata": {
        "colab": {
          "base_uri": "https://localhost:8080/"
        },
        "id": "kmJncIf_Zaub",
        "outputId": "297f0eb6-1843-481e-82dd-8c3db922a592"
      },
      "execution_count": null,
      "outputs": [
        {
          "output_type": "stream",
          "name": "stdout",
          "text": [
            "             0  1  2  3  4  5\n",
            "innings      0  1  0  0  0  0\n",
            "pitcher      0  1  1  0  0  0\n",
            "quarterback  0  0  0  0  1  1\n",
            "runs         1  1  0  0  0  0\n",
            "touchdown    0  0  0  1  0  1\n"
          ]
        },
        {
          "output_type": "stream",
          "name": "stderr",
          "text": [
            "/usr/local/lib/python3.8/dist-packages/sklearn/utils/deprecation.py:87: FutureWarning: Function get_feature_names is deprecated; get_feature_names is deprecated in 1.0 and will be removed in 1.2. Please use get_feature_names_out instead.\n",
            "  warnings.warn(msg, category=FutureWarning)\n"
          ]
        }
      ]
    },
    {
      "cell_type": "code",
      "source": [
        "#1\n",
        "bag_of_words = bag_of_words.toarray()\n",
        "bag_of_words = bag_of_words / np.linalg.norm(bag_of_words, axis=1).reshape(-1, 1)\n",
        "\n",
        "cosine_similarity = np.dot(bag_of_words, bag_of_words.T)\n",
        "\n",
        "cosine_distance = 1 - cosine_similarity\n",
        "\n",
        "print(\"Cosine Similarity:\")\n",
        "print(cosine_similarity)\n",
        "print(\"Cosine Distance:\")\n",
        "print(cosine_distance)\n"
      ],
      "metadata": {
        "colab": {
          "base_uri": "https://localhost:8080/"
        },
        "id": "igs3SW3clStE",
        "outputId": "ec95eadf-41e5-4928-ed44-4f369c988507"
      },
      "execution_count": null,
      "outputs": [
        {
          "output_type": "stream",
          "name": "stdout",
          "text": [
            "Cosine Similarity:\n",
            "[[1.     0.5774 0.     0.     0.     0.    ]\n",
            " [0.5774 1.     0.5774 0.     0.     0.    ]\n",
            " [0.     0.5774 1.     0.     0.     0.    ]\n",
            " [0.     0.     0.     1.     0.     0.7071]\n",
            " [0.     0.     0.     0.     1.     0.7071]\n",
            " [0.     0.     0.     0.7071 0.7071 1.    ]]\n",
            "Cosine Distance:\n",
            "[[ 0.      0.4226  1.      1.      1.      1.    ]\n",
            " [ 0.4226 -0.      0.4226  1.      1.      1.    ]\n",
            " [ 1.      0.4226  0.      1.      1.      1.    ]\n",
            " [ 1.      1.      1.      0.      1.      0.2929]\n",
            " [ 1.      1.      1.      1.      0.      0.2929]\n",
            " [ 1.      1.      1.      0.2929  0.2929  0.    ]]\n"
          ]
        }
      ]
    },
    {
      "cell_type": "code",
      "source": [
        "#2\n",
        "bag_of_words = vectorizer.fit_transform(corpus)\n",
        "\n",
        "tdm = bag_of_words.todense().T\n",
        "print('Term - Word - Document Matrix - TDM')\n",
        "print('5 Words x 6 Docu')\n",
        "print(tdm)\n",
        "\n",
        "print()\n",
        "\n",
        "dtm= bag_of_words.todense()\n",
        "print('Document Term Matrix - DTM')\n",
        "print('6 Docu x 5 Words')\n",
        "print(dtm)\n",
        "\n",
        "\n",
        "\n",
        "\n"
      ],
      "metadata": {
        "colab": {
          "base_uri": "https://localhost:8080/"
        },
        "id": "JZydpysTks1n",
        "outputId": "4d8804b6-63b0-413b-b831-8557ce6bde8e"
      },
      "execution_count": null,
      "outputs": [
        {
          "output_type": "stream",
          "name": "stdout",
          "text": [
            "Term - Word - Document Matrix - TDM\n",
            "5 Words x 6 Docu\n",
            "[[0 1 0 0 0 0]\n",
            " [0 1 1 0 0 0]\n",
            " [0 0 0 0 1 1]\n",
            " [1 1 0 0 0 0]\n",
            " [0 0 0 1 0 1]]\n",
            "\n",
            "Document Term Matrix - DTM\n",
            "6 Docu x 5 Words\n",
            "[[0 0 0 1 0]\n",
            " [1 1 0 1 0]\n",
            " [0 1 0 0 0]\n",
            " [0 0 0 0 1]\n",
            " [0 0 1 0 0]\n",
            " [0 0 1 0 1]]\n"
          ]
        }
      ]
    },
    {
      "cell_type": "code",
      "source": [
        "#3\n",
        "svd = TruncatedSVD(n_components=2)\n",
        "TruncatedDTM = svd.fit_transform(dtm)\n",
        "print(\"DTM (Document) Vector\\n\",TruncatedDTM)\n",
        "print() \n",
        "\n",
        "TruncatedTDM = svd.fit_transform(tdm)\n",
        "print(\"TDM (Word) Vector\\n\",TruncatedTDM) \n"
      ],
      "metadata": {
        "colab": {
          "base_uri": "https://localhost:8080/"
        },
        "id": "GAoajUAelDO_",
        "outputId": "951edd6b-5fe1-4711-de9b-6fe29d51aec9"
      },
      "execution_count": null,
      "outputs": [
        {
          "output_type": "stream",
          "name": "stdout",
          "text": [
            "DTM (Document) Vector\n",
            " [[ 0.628  -0.    ]\n",
            " [ 1.7156 -0.    ]\n",
            " [ 0.628  -0.    ]\n",
            " [ 0.      0.7071]\n",
            " [-0.      0.7071]\n",
            " [ 0.      1.4142]]\n",
            "\n",
            "TDM (Word) Vector\n",
            " [[ 0.8881  0.    ]\n",
            " [ 1.2131 -0.    ]\n",
            " [ 0.      1.2247]\n",
            " [ 1.2131 -0.    ]\n",
            " [ 0.      1.2247]]\n"
          ]
        },
        {
          "output_type": "stream",
          "name": "stderr",
          "text": [
            "/usr/local/lib/python3.8/dist-packages/sklearn/utils/validation.py:593: FutureWarning: np.matrix usage is deprecated in 1.0 and will raise a TypeError in 1.2. Please convert to a numpy array with np.asarray. For more information see: https://numpy.org/doc/stable/reference/generated/numpy.matrix.html\n",
            "  warnings.warn(\n",
            "/usr/local/lib/python3.8/dist-packages/sklearn/utils/validation.py:593: FutureWarning: np.matrix usage is deprecated in 1.0 and will raise a TypeError in 1.2. Please convert to a numpy array with np.asarray. For more information see: https://numpy.org/doc/stable/reference/generated/numpy.matrix.html\n",
            "  warnings.warn(\n"
          ]
        }
      ]
    },
    {
      "cell_type": "code",
      "source": [
        "#4\n",
        "pd.set_option('display.float_format', lambda x: '%.3f' % x)\n",
        "topic_encoded_df_Word = pd.DataFrame(TruncatedDTM, columns=[\"Topic-1\", \"Topic-2\"])\n",
        "topic_encoded_df_Word [\"Corpus\"]= corpus\n",
        "topic_encoded_df_Word.head()\n",
        "\n",
        "display(topic_encoded_df_Word[  ['Corpus','Topic-1','Topic-2']  ])"
      ],
      "metadata": {
        "colab": {
          "base_uri": "https://localhost:8080/",
          "height": 238
        },
        "id": "WG4dFMEhokBN",
        "outputId": "8fc2ba04-1672-4561-affa-e55421ffee76"
      },
      "execution_count": null,
      "outputs": [
        {
          "output_type": "display_data",
          "data": {
            "text/plain": [
              "                  Corpus  Topic-1  Topic-2\n",
              "0                   runs    0.628   -0.000\n",
              "1   runs pitcher innings    1.716   -0.000\n",
              "2                pitcher    0.628   -0.000\n",
              "3              touchdown    0.000    0.707\n",
              "4            quarterback   -0.000    0.707\n",
              "5  touchdown quarterback    0.000    1.414"
            ],
            "text/html": [
              "\n",
              "  <div id=\"df-48964a51-b3e7-4580-834e-24faedded30d\">\n",
              "    <div class=\"colab-df-container\">\n",
              "      <div>\n",
              "<style scoped>\n",
              "    .dataframe tbody tr th:only-of-type {\n",
              "        vertical-align: middle;\n",
              "    }\n",
              "\n",
              "    .dataframe tbody tr th {\n",
              "        vertical-align: top;\n",
              "    }\n",
              "\n",
              "    .dataframe thead th {\n",
              "        text-align: right;\n",
              "    }\n",
              "</style>\n",
              "<table border=\"1\" class=\"dataframe\">\n",
              "  <thead>\n",
              "    <tr style=\"text-align: right;\">\n",
              "      <th></th>\n",
              "      <th>Corpus</th>\n",
              "      <th>Topic-1</th>\n",
              "      <th>Topic-2</th>\n",
              "    </tr>\n",
              "  </thead>\n",
              "  <tbody>\n",
              "    <tr>\n",
              "      <th>0</th>\n",
              "      <td>runs</td>\n",
              "      <td>0.628</td>\n",
              "      <td>-0.000</td>\n",
              "    </tr>\n",
              "    <tr>\n",
              "      <th>1</th>\n",
              "      <td>runs pitcher innings</td>\n",
              "      <td>1.716</td>\n",
              "      <td>-0.000</td>\n",
              "    </tr>\n",
              "    <tr>\n",
              "      <th>2</th>\n",
              "      <td>pitcher</td>\n",
              "      <td>0.628</td>\n",
              "      <td>-0.000</td>\n",
              "    </tr>\n",
              "    <tr>\n",
              "      <th>3</th>\n",
              "      <td>touchdown</td>\n",
              "      <td>0.000</td>\n",
              "      <td>0.707</td>\n",
              "    </tr>\n",
              "    <tr>\n",
              "      <th>4</th>\n",
              "      <td>quarterback</td>\n",
              "      <td>-0.000</td>\n",
              "      <td>0.707</td>\n",
              "    </tr>\n",
              "    <tr>\n",
              "      <th>5</th>\n",
              "      <td>touchdown quarterback</td>\n",
              "      <td>0.000</td>\n",
              "      <td>1.414</td>\n",
              "    </tr>\n",
              "  </tbody>\n",
              "</table>\n",
              "</div>\n",
              "      <button class=\"colab-df-convert\" onclick=\"convertToInteractive('df-48964a51-b3e7-4580-834e-24faedded30d')\"\n",
              "              title=\"Convert this dataframe to an interactive table.\"\n",
              "              style=\"display:none;\">\n",
              "        \n",
              "  <svg xmlns=\"http://www.w3.org/2000/svg\" height=\"24px\"viewBox=\"0 0 24 24\"\n",
              "       width=\"24px\">\n",
              "    <path d=\"M0 0h24v24H0V0z\" fill=\"none\"/>\n",
              "    <path d=\"M18.56 5.44l.94 2.06.94-2.06 2.06-.94-2.06-.94-.94-2.06-.94 2.06-2.06.94zm-11 1L8.5 8.5l.94-2.06 2.06-.94-2.06-.94L8.5 2.5l-.94 2.06-2.06.94zm10 10l.94 2.06.94-2.06 2.06-.94-2.06-.94-.94-2.06-.94 2.06-2.06.94z\"/><path d=\"M17.41 7.96l-1.37-1.37c-.4-.4-.92-.59-1.43-.59-.52 0-1.04.2-1.43.59L10.3 9.45l-7.72 7.72c-.78.78-.78 2.05 0 2.83L4 21.41c.39.39.9.59 1.41.59.51 0 1.02-.2 1.41-.59l7.78-7.78 2.81-2.81c.8-.78.8-2.07 0-2.86zM5.41 20L4 18.59l7.72-7.72 1.47 1.35L5.41 20z\"/>\n",
              "  </svg>\n",
              "      </button>\n",
              "      \n",
              "  <style>\n",
              "    .colab-df-container {\n",
              "      display:flex;\n",
              "      flex-wrap:wrap;\n",
              "      gap: 12px;\n",
              "    }\n",
              "\n",
              "    .colab-df-convert {\n",
              "      background-color: #E8F0FE;\n",
              "      border: none;\n",
              "      border-radius: 50%;\n",
              "      cursor: pointer;\n",
              "      display: none;\n",
              "      fill: #1967D2;\n",
              "      height: 32px;\n",
              "      padding: 0 0 0 0;\n",
              "      width: 32px;\n",
              "    }\n",
              "\n",
              "    .colab-df-convert:hover {\n",
              "      background-color: #E2EBFA;\n",
              "      box-shadow: 0px 1px 2px rgba(60, 64, 67, 0.3), 0px 1px 3px 1px rgba(60, 64, 67, 0.15);\n",
              "      fill: #174EA6;\n",
              "    }\n",
              "\n",
              "    [theme=dark] .colab-df-convert {\n",
              "      background-color: #3B4455;\n",
              "      fill: #D2E3FC;\n",
              "    }\n",
              "\n",
              "    [theme=dark] .colab-df-convert:hover {\n",
              "      background-color: #434B5C;\n",
              "      box-shadow: 0px 1px 3px 1px rgba(0, 0, 0, 0.15);\n",
              "      filter: drop-shadow(0px 1px 2px rgba(0, 0, 0, 0.3));\n",
              "      fill: #FFFFFF;\n",
              "    }\n",
              "  </style>\n",
              "\n",
              "      <script>\n",
              "        const buttonEl =\n",
              "          document.querySelector('#df-48964a51-b3e7-4580-834e-24faedded30d button.colab-df-convert');\n",
              "        buttonEl.style.display =\n",
              "          google.colab.kernel.accessAllowed ? 'block' : 'none';\n",
              "\n",
              "        async function convertToInteractive(key) {\n",
              "          const element = document.querySelector('#df-48964a51-b3e7-4580-834e-24faedded30d');\n",
              "          const dataTable =\n",
              "            await google.colab.kernel.invokeFunction('convertToInteractive',\n",
              "                                                     [key], {});\n",
              "          if (!dataTable) return;\n",
              "\n",
              "          const docLinkHtml = 'Like what you see? Visit the ' +\n",
              "            '<a target=\"_blank\" href=https://colab.research.google.com/notebooks/data_table.ipynb>data table notebook</a>'\n",
              "            + ' to learn more about interactive tables.';\n",
              "          element.innerHTML = '';\n",
              "          dataTable['output_type'] = 'display_data';\n",
              "          await google.colab.output.renderOutput(dataTable, element);\n",
              "          const docLink = document.createElement('div');\n",
              "          docLink.innerHTML = docLinkHtml;\n",
              "          element.appendChild(docLink);\n",
              "        }\n",
              "      </script>\n",
              "    </div>\n",
              "  </div>\n",
              "  "
            ]
          },
          "metadata": {}
        }
      ]
    },
    {
      "cell_type": "code",
      "source": [
        "pd.set_option('display.float_format', lambda x: '%.3f' % x)\n",
        "topic_encoded_df_Word = pd.DataFrame(TruncatedTDM, columns=[\"Topic-1\", \"Topic-2\"])\n",
        "topic_encoded_df_Word [\"Words\"]= df.T.index.tolist()\n",
        "topic_encoded_df_Word.head()\n",
        "\n",
        "display(topic_encoded_df_Word[  ['Words','Topic-1','Topic-2']  ])"
      ],
      "metadata": {
        "colab": {
          "base_uri": "https://localhost:8080/",
          "height": 206
        },
        "id": "9p3BI8xv6DZh",
        "outputId": "8831754d-a383-4590-9fba-40a840230873"
      },
      "execution_count": null,
      "outputs": [
        {
          "output_type": "display_data",
          "data": {
            "text/plain": [
              "         Words  Topic-1  Topic-2\n",
              "0      innings    0.888    0.000\n",
              "1      pitcher    1.213   -0.000\n",
              "2  quarterback    0.000    1.225\n",
              "3         runs    1.213   -0.000\n",
              "4    touchdown    0.000    1.225"
            ],
            "text/html": [
              "\n",
              "  <div id=\"df-d6321e59-146b-4c7c-98a8-fd0bfd25b06e\">\n",
              "    <div class=\"colab-df-container\">\n",
              "      <div>\n",
              "<style scoped>\n",
              "    .dataframe tbody tr th:only-of-type {\n",
              "        vertical-align: middle;\n",
              "    }\n",
              "\n",
              "    .dataframe tbody tr th {\n",
              "        vertical-align: top;\n",
              "    }\n",
              "\n",
              "    .dataframe thead th {\n",
              "        text-align: right;\n",
              "    }\n",
              "</style>\n",
              "<table border=\"1\" class=\"dataframe\">\n",
              "  <thead>\n",
              "    <tr style=\"text-align: right;\">\n",
              "      <th></th>\n",
              "      <th>Words</th>\n",
              "      <th>Topic-1</th>\n",
              "      <th>Topic-2</th>\n",
              "    </tr>\n",
              "  </thead>\n",
              "  <tbody>\n",
              "    <tr>\n",
              "      <th>0</th>\n",
              "      <td>innings</td>\n",
              "      <td>0.888</td>\n",
              "      <td>0.000</td>\n",
              "    </tr>\n",
              "    <tr>\n",
              "      <th>1</th>\n",
              "      <td>pitcher</td>\n",
              "      <td>1.213</td>\n",
              "      <td>-0.000</td>\n",
              "    </tr>\n",
              "    <tr>\n",
              "      <th>2</th>\n",
              "      <td>quarterback</td>\n",
              "      <td>0.000</td>\n",
              "      <td>1.225</td>\n",
              "    </tr>\n",
              "    <tr>\n",
              "      <th>3</th>\n",
              "      <td>runs</td>\n",
              "      <td>1.213</td>\n",
              "      <td>-0.000</td>\n",
              "    </tr>\n",
              "    <tr>\n",
              "      <th>4</th>\n",
              "      <td>touchdown</td>\n",
              "      <td>0.000</td>\n",
              "      <td>1.225</td>\n",
              "    </tr>\n",
              "  </tbody>\n",
              "</table>\n",
              "</div>\n",
              "      <button class=\"colab-df-convert\" onclick=\"convertToInteractive('df-d6321e59-146b-4c7c-98a8-fd0bfd25b06e')\"\n",
              "              title=\"Convert this dataframe to an interactive table.\"\n",
              "              style=\"display:none;\">\n",
              "        \n",
              "  <svg xmlns=\"http://www.w3.org/2000/svg\" height=\"24px\"viewBox=\"0 0 24 24\"\n",
              "       width=\"24px\">\n",
              "    <path d=\"M0 0h24v24H0V0z\" fill=\"none\"/>\n",
              "    <path d=\"M18.56 5.44l.94 2.06.94-2.06 2.06-.94-2.06-.94-.94-2.06-.94 2.06-2.06.94zm-11 1L8.5 8.5l.94-2.06 2.06-.94-2.06-.94L8.5 2.5l-.94 2.06-2.06.94zm10 10l.94 2.06.94-2.06 2.06-.94-2.06-.94-.94-2.06-.94 2.06-2.06.94z\"/><path d=\"M17.41 7.96l-1.37-1.37c-.4-.4-.92-.59-1.43-.59-.52 0-1.04.2-1.43.59L10.3 9.45l-7.72 7.72c-.78.78-.78 2.05 0 2.83L4 21.41c.39.39.9.59 1.41.59.51 0 1.02-.2 1.41-.59l7.78-7.78 2.81-2.81c.8-.78.8-2.07 0-2.86zM5.41 20L4 18.59l7.72-7.72 1.47 1.35L5.41 20z\"/>\n",
              "  </svg>\n",
              "      </button>\n",
              "      \n",
              "  <style>\n",
              "    .colab-df-container {\n",
              "      display:flex;\n",
              "      flex-wrap:wrap;\n",
              "      gap: 12px;\n",
              "    }\n",
              "\n",
              "    .colab-df-convert {\n",
              "      background-color: #E8F0FE;\n",
              "      border: none;\n",
              "      border-radius: 50%;\n",
              "      cursor: pointer;\n",
              "      display: none;\n",
              "      fill: #1967D2;\n",
              "      height: 32px;\n",
              "      padding: 0 0 0 0;\n",
              "      width: 32px;\n",
              "    }\n",
              "\n",
              "    .colab-df-convert:hover {\n",
              "      background-color: #E2EBFA;\n",
              "      box-shadow: 0px 1px 2px rgba(60, 64, 67, 0.3), 0px 1px 3px 1px rgba(60, 64, 67, 0.15);\n",
              "      fill: #174EA6;\n",
              "    }\n",
              "\n",
              "    [theme=dark] .colab-df-convert {\n",
              "      background-color: #3B4455;\n",
              "      fill: #D2E3FC;\n",
              "    }\n",
              "\n",
              "    [theme=dark] .colab-df-convert:hover {\n",
              "      background-color: #434B5C;\n",
              "      box-shadow: 0px 1px 3px 1px rgba(0, 0, 0, 0.15);\n",
              "      filter: drop-shadow(0px 1px 2px rgba(0, 0, 0, 0.3));\n",
              "      fill: #FFFFFF;\n",
              "    }\n",
              "  </style>\n",
              "\n",
              "      <script>\n",
              "        const buttonEl =\n",
              "          document.querySelector('#df-d6321e59-146b-4c7c-98a8-fd0bfd25b06e button.colab-df-convert');\n",
              "        buttonEl.style.display =\n",
              "          google.colab.kernel.accessAllowed ? 'block' : 'none';\n",
              "\n",
              "        async function convertToInteractive(key) {\n",
              "          const element = document.querySelector('#df-d6321e59-146b-4c7c-98a8-fd0bfd25b06e');\n",
              "          const dataTable =\n",
              "            await google.colab.kernel.invokeFunction('convertToInteractive',\n",
              "                                                     [key], {});\n",
              "          if (!dataTable) return;\n",
              "\n",
              "          const docLinkHtml = 'Like what you see? Visit the ' +\n",
              "            '<a target=\"_blank\" href=https://colab.research.google.com/notebooks/data_table.ipynb>data table notebook</a>'\n",
              "            + ' to learn more about interactive tables.';\n",
              "          element.innerHTML = '';\n",
              "          dataTable['output_type'] = 'display_data';\n",
              "          await google.colab.output.renderOutput(dataTable, element);\n",
              "          const docLink = document.createElement('div');\n",
              "          docLink.innerHTML = docLinkHtml;\n",
              "          element.appendChild(docLink);\n",
              "        }\n",
              "      </script>\n",
              "    </div>\n",
              "  </div>\n",
              "  "
            ]
          },
          "metadata": {}
        }
      ]
    },
    {
      "cell_type": "code",
      "source": [
        "TruncatedDTM = TruncatedDTM/np.linalg.norm(TruncatedDTM, axis=1).reshape(-1, 1)\n",
        "\n",
        "cosine_similarity =  abs(np.dot(np.array(TruncatedDTM), np.array(TruncatedDTM.T))) \n",
        "\n",
        "print(\"Cosine Similarity\\n\",cosine_similarity)\n",
        "print()\n",
        "print(\"Cosine Distance\\n\",1-cosine_similarity)\n"
      ],
      "metadata": {
        "colab": {
          "base_uri": "https://localhost:8080/"
        },
        "id": "jLIH9hYIq4kA",
        "outputId": "98e3c9cc-be6b-425d-db10-89a33631da20"
      },
      "execution_count": null,
      "outputs": [
        {
          "output_type": "stream",
          "name": "stdout",
          "text": [
            "Cosine Similarity\n",
            " [[1. 1. 1. 0. 0. 0.]\n",
            " [1. 1. 1. 0. 0. 0.]\n",
            " [1. 1. 1. 0. 0. 0.]\n",
            " [0. 0. 0. 1. 1. 1.]\n",
            " [0. 0. 0. 1. 1. 1.]\n",
            " [0. 0. 0. 1. 1. 1.]]\n",
            "\n",
            "Cosine Distance\n",
            " [[0. 0. 0. 1. 1. 1.]\n",
            " [0. 0. 0. 1. 1. 1.]\n",
            " [0. 0. 0. 1. 1. 1.]\n",
            " [1. 1. 1. 0. 0. 0.]\n",
            " [1. 1. 1. 0. 0. 0.]\n",
            " [1. 1. 1. 0. 0. 0.]]\n"
          ]
        }
      ]
    },
    {
      "cell_type": "code",
      "source": [
        "v0 = TruncatedDTM[:,0]\n",
        "v1 = TruncatedDTM[:,1]\n",
        "\n",
        "\n",
        "import matplotlib.pyplot as plt\n",
        "fig, ax = plt.subplots()\n",
        "\n",
        "print()\n",
        "plt.xlim([-1, 2])\n",
        "plt.ylim([-1, 2])\n",
        "ax.scatter(list(np.abs(v0)),list(np.abs(v1)),color='red')\n",
        "ax.axhline(y=0, color='k')\n",
        "ax.axvline(x=0, color='k')\n",
        "plt.xlabel(\"Topic-1\")\n",
        "plt.ylabel(\"Topic-2\")\n",
        "plt.show()"
      ],
      "metadata": {
        "colab": {
          "base_uri": "https://localhost:8080/",
          "height": 301
        },
        "id": "bKkwo8C-2SzF",
        "outputId": "80b8abcc-f2e8-4e5d-d70e-eedc113b6d14"
      },
      "execution_count": null,
      "outputs": [
        {
          "output_type": "stream",
          "name": "stdout",
          "text": [
            "\n"
          ]
        },
        {
          "output_type": "display_data",
          "data": {
            "text/plain": [
              "<Figure size 432x288 with 1 Axes>"
            ],
            "image/png": "[encoded data removed]"
          },
          "metadata": {
            "needs_background": "light"
          }
        }
      ]
    },
    {
      "cell_type": "markdown",
      "source": [
        "5. \n",
        "\n",
        "\n",
        "*   The appropriate documents for Topic-1 are \"runs\", \"runs pitcher innings\" and \"pitcher\" with the most appropriate being \"runs pitcher innings\" (1.716) \n",
        "*   The appropriate documents for Topic-2 are \"touchdown\", \"quarterback\" and \"touchdown quarterback\" with the most appropriate being \"touchdown quarterback\" (1.414)\n",
        "\n"
      ],
      "metadata": {
        "id": "KWBLECE75THv"
      }
    },
    {
      "cell_type": "markdown",
      "source": [
        "6. \n",
        "\n",
        "*   The Top 2 words that describe Topic-1 are: 'runs' and 'pitcher'\n",
        "*   The Top 2 words that describe Topic-2 are: 'touchdown' and 'quarterback'\n"
      ],
      "metadata": {
        "id": "DMCOz57O46d6"
      }
    }
  ]
}